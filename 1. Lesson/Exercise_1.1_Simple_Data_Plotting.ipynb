{
 "cells": [
  {
   "cell_type": "markdown",
   "id": "06fe80a0",
   "metadata": {},
   "source": [
    "# Exercise: Simple Data Plotting\n",
    "### Description\n",
    "The aim of this exercise is to plot TV Ads vs Sales based on the Advertisement dataset which should look similar to the graph given below. \n",
    "![Exercise_1.1.png](Exercise_1.1.png)"
   ]
  },
  {
   "cell_type": "markdown",
   "id": "a8be1f98",
   "metadata": {},
   "source": [
    "### Instructions:  \n",
    "- Read the Advertisement data and view the top rows of the dataframe to get an understanding of the data and the columns.  \n",
    "- Select the first 7 observations and the columns TV and sales  to make a new data frame.  \n",
    "- Create a scatter plot of the new data frame TV budget vs sales ."
   ]
  },
  {
   "cell_type": "code",
   "execution_count": 1,
   "id": "f15f108b",
   "metadata": {},
   "outputs": [],
   "source": [
    "# Import necessary libraries\n",
    "import pandas as pd\n",
    "import matplotlib.pyplot as plt\n",
    "%matplotlib inline"
   ]
  },
  {
   "cell_type": "markdown",
   "id": "aa345b2b",
   "metadata": {},
   "source": [
    "Reading the Advertisement dataset"
   ]
  },
  {
   "cell_type": "code",
   "execution_count": 3,
   "id": "2728cff6",
   "metadata": {},
   "outputs": [],
   "source": [
    "# \"Advertising.csv\" containts the data set used in this exercise\n",
    "data_filename = 'Advertising.csv'\n",
    "\n",
    "# Read the file \"Advertising.csv\" file using the pandas library\n",
    "df = pd.read_csv(data_filename)"
   ]
  },
  {
   "cell_type": "code",
   "execution_count": 4,
   "id": "7e4036f1",
   "metadata": {},
   "outputs": [
    {
     "data": {
      "text/html": [
       "<div>\n",
       "<style scoped>\n",
       "    .dataframe tbody tr th:only-of-type {\n",
       "        vertical-align: middle;\n",
       "    }\n",
       "\n",
       "    .dataframe tbody tr th {\n",
       "        vertical-align: top;\n",
       "    }\n",
       "\n",
       "    .dataframe thead th {\n",
       "        text-align: right;\n",
       "    }\n",
       "</style>\n",
       "<table border=\"1\" class=\"dataframe\">\n",
       "  <thead>\n",
       "    <tr style=\"text-align: right;\">\n",
       "      <th></th>\n",
       "      <th>TV</th>\n",
       "      <th>Radio</th>\n",
       "      <th>Newspaper</th>\n",
       "      <th>Sales</th>\n",
       "    </tr>\n",
       "  </thead>\n",
       "  <tbody>\n",
       "    <tr>\n",
       "      <th>0</th>\n",
       "      <td>230.1</td>\n",
       "      <td>37.8</td>\n",
       "      <td>69.2</td>\n",
       "      <td>22.1</td>\n",
       "    </tr>\n",
       "    <tr>\n",
       "      <th>1</th>\n",
       "      <td>44.5</td>\n",
       "      <td>39.3</td>\n",
       "      <td>45.1</td>\n",
       "      <td>10.4</td>\n",
       "    </tr>\n",
       "    <tr>\n",
       "      <th>2</th>\n",
       "      <td>17.2</td>\n",
       "      <td>45.9</td>\n",
       "      <td>69.3</td>\n",
       "      <td>9.3</td>\n",
       "    </tr>\n",
       "    <tr>\n",
       "      <th>3</th>\n",
       "      <td>151.5</td>\n",
       "      <td>41.3</td>\n",
       "      <td>58.5</td>\n",
       "      <td>18.5</td>\n",
       "    </tr>\n",
       "    <tr>\n",
       "      <th>4</th>\n",
       "      <td>180.8</td>\n",
       "      <td>10.8</td>\n",
       "      <td>58.4</td>\n",
       "      <td>12.9</td>\n",
       "    </tr>\n",
       "    <tr>\n",
       "      <th>5</th>\n",
       "      <td>8.7</td>\n",
       "      <td>48.9</td>\n",
       "      <td>75.0</td>\n",
       "      <td>7.2</td>\n",
       "    </tr>\n",
       "    <tr>\n",
       "      <th>6</th>\n",
       "      <td>57.5</td>\n",
       "      <td>32.8</td>\n",
       "      <td>23.5</td>\n",
       "      <td>11.8</td>\n",
       "    </tr>\n",
       "  </tbody>\n",
       "</table>\n",
       "</div>"
      ],
      "text/plain": [
       "      TV  Radio  Newspaper  Sales\n",
       "0  230.1   37.8       69.2   22.1\n",
       "1   44.5   39.3       45.1   10.4\n",
       "2   17.2   45.9       69.3    9.3\n",
       "3  151.5   41.3       58.5   18.5\n",
       "4  180.8   10.8       58.4   12.9\n",
       "5    8.7   48.9       75.0    7.2\n",
       "6   57.5   32.8       23.5   11.8"
      ]
     },
     "execution_count": 4,
     "metadata": {},
     "output_type": "execute_result"
    }
   ],
   "source": [
    "# Get a quick look of the data\n",
    "df.iloc[0:7]"
   ]
  },
  {
   "cell_type": "code",
   "execution_count": 5,
   "id": "187c2ba6",
   "metadata": {},
   "outputs": [],
   "source": [
    "### edTest(test_pandas) ###\n",
    "# Create a new dataframe by selecting the first 7 rows of\n",
    "# the current dataframe\n",
    "df_new = df.head(7)"
   ]
  },
  {
   "cell_type": "code",
   "execution_count": 6,
   "id": "894a49dc",
   "metadata": {},
   "outputs": [
    {
     "name": "stdout",
     "output_type": "stream",
     "text": [
      "      TV  Radio  Newspaper  Sales\n",
      "0  230.1   37.8       69.2   22.1\n",
      "1   44.5   39.3       45.1   10.4\n",
      "2   17.2   45.9       69.3    9.3\n",
      "3  151.5   41.3       58.5   18.5\n",
      "4  180.8   10.8       58.4   12.9\n",
      "5    8.7   48.9       75.0    7.2\n",
      "6   57.5   32.8       23.5   11.8\n"
     ]
    }
   ],
   "source": [
    "# Print your new dataframe to see if you have selected 7 rows correctly\n",
    "print(df_new)"
   ]
  },
  {
   "cell_type": "markdown",
   "id": "f8639c44",
   "metadata": {},
   "source": [
    "### Plotting the graph"
   ]
  },
  {
   "cell_type": "code",
   "execution_count": 7,
   "id": "e01a86d8",
   "metadata": {},
   "outputs": [
    {
     "data": {
      "text/plain": [
       "Text(0.5, 1.0, 'Exercise plot')"
      ]
     },
     "execution_count": 7,
     "metadata": {},
     "output_type": "execute_result"
    },
    {
     "data": {
      "image/png": "[encoded data removed]",
      "text/plain": [
       "<Figure size 640x480 with 1 Axes>"
      ]
     },
     "metadata": {},
     "output_type": "display_data"
    }
   ],
   "source": [
    "# Use a scatter plot for plotting a graph of TV vs Sales\n",
    "plt.scatter(df_new['TV'], df_new['Sales'], s=10, color=\"red\")\n",
    "\n",
    "# Add axis labels for clarity (x : TV budget, y : Sales)\n",
    "plt.xlabel(\"TV budget\")\n",
    "plt.ylabel(\"Sales\")\n",
    "\n",
    "# Add plot title \n",
    "plt.title(\"Exercise plot\")"
   ]
  },
  {
   "cell_type": "markdown",
   "id": "54469de9",
   "metadata": {},
   "source": [
    "### Post-Exercise Question  \n",
    "Instead of just plotting seven points, experiment to plot all points."
   ]
  },
  {
   "cell_type": "code",
   "execution_count": 8,
   "id": "277320a2",
   "metadata": {},
   "outputs": [
    {
     "data": {
      "text/plain": [
       "Text(0.5, 1.0, 'Post-Exercise plot')"
      ]
     },
     "execution_count": 8,
     "metadata": {},
     "output_type": "execute_result"
    },
    {
     "data": {
      "image/png": "[encoded data removed]",
      "text/plain": [
       "<Figure size 640x480 with 1 Axes>"
      ]
     },
     "metadata": {},
     "output_type": "display_data"
    }
   ],
   "source": [
    "# Your code here\n",
    "# Use a scatter plot for plotting a graph of TV vs Sales\n",
    "plt.scatter(df['TV'], df['Sales'], s=10, color=\"red\")\n",
    "\n",
    "# Add axis labels for clarity (x : TV budget, y : Sales)\n",
    "plt.xlabel(\"TV budget\")\n",
    "plt.ylabel(\"Sales\")\n",
    "\n",
    "# Add plot title \n",
    "plt.title(\"Post-Exercise plot\")"
   ]
  }
 ],
 "metadata": {
  "kernelspec": {
   "display_name": "data-science-with-python",
   "language": "python",
   "name": "python3"
  },
  "language_info": {
   "codemirror_mode": {
    "name": "ipython",
    "version": 3
   },
   "file_extension": ".py",
   "mimetype": "text/x-python",
   "name": "python",
   "nbconvert_exporter": "python",
   "pygments_lexer": "ipython3",
   "version": "3.13.1"
  }
 },
 "nbformat": 4,
 "nbformat_minor": 5
}
