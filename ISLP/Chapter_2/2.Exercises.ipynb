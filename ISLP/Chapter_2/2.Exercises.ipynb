{
 "cells": [
  {
   "cell_type": "markdown",
   "id": "835aab99",
   "metadata": {},
   "source": [
    "# Exercises\n",
    "\n",
    "### Conceptual\n",
    " "
   ]
  },
  {
   "cell_type": "markdown",
   "id": "e9d26dfa",
   "metadata": {},
   "source": [
    " 1. For each of parts (a) through (d), indicate whether we would generally\n",
    " expect the performance of a flexible statistical learning method to be\n",
    " better or worse than an inflexible method. Justify your answer.  \n",
    " (a) The sample size n is extremely large, and the number of predictors p is small.  \n",
    "**Flexible will be better. More data will be generalized better with flexible methods.**  \n",
    " (b) The number of predictors p is extremely large, and the number of observations n is small.  \n",
    " **Inflexible will be better. Flexible may overfit due to high variance.**  \n",
    " (c) The relationship between the predictors and response is highly non-linear.  \n",
    " **Flexible will be better. Can model nonlinear better.**  \n",
    " (d) The variance of the error terms, i.e. sigma2 = Var(e), is extremely high.  \n",
    " **Flexible methods have low bias but high variance, which can amplify the noise.  \n",
    "Inflexible methods have higher bias but lower variance, which helps smooth out the noise.**  "
   ]
  }
 ],
 "metadata": {
  "language_info": {
   "name": "python"
  }
 },
 "nbformat": 4,
 "nbformat_minor": 5
}
