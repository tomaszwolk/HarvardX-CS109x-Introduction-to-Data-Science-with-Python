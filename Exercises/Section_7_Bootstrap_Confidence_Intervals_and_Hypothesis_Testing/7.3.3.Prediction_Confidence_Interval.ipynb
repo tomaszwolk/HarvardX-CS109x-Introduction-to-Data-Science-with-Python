{
    "cells": [
        {
            "cell_type": "markdown",
            "metadata": {},
            "source": [
                "# Prediction Confidence Interval  \n",
                "You are the manager of the Advertising division of your company, and your boss asks you the question, **\"How much more sales will we have if we invest $1000 dollars in TV advertising?\"**  \n",
                "\n",
                "The goal of this exercise is to estimate the Sales with a 95% confidence interval using the Advertising.csv dataset.  \n",
                "\n",
                "### Instructions:  \n",
                "- Read the file Advertising.csv as a dataframe.  \n",
                "- Fix a budget amount of 1000 dollars for TV advertising as variable called Budget  \n",
                "- Select the number of bootstraps.  \n",
                "- For each bootstrap:  \n",
                "    - Select a new dataframe with the predictor as TV and the response as Sales.  \n",
                "    - Fit a simple linear regression on the data.  \n",
                "    - Predict on the budget and compute the error estimate using the helper function er`ror_func()  \n",
                "    - Store the `sales` as a sum of the prediction and the error estimate and append to `sales_dist`  \n",
                "- Sort the `sales_dist` which is a distribution of predicted sales over numboot bootstraps.  \n",
                "- Compute the 95% confidence interval of `sales_dist`  \n",
                "- Use the helper function `plot_simulation` to visualize the distribution and print the estimated sales."
            ]
        },
        {
            "cell_type": "markdown",
            "metadata": {},
            "source": [
                "Hints\n",
                "np.random.randint()\n",
                "Returns list of integers as per mentioned size \n",
                "\n",
                "ndarray.sort()\n",
                "Returns the sorted ndarray.\n",
                "\n",
                "np.percentile(list, q)\n",
                "Returns the q-th percentile value based on the provided ascending list of values.\n",
                "\n",
                "df.sample()\n",
                "Get a new sample from a dataframe\n",
                "\n",
                "plt.hist()\n",
                "Plots a histogram\n",
                "\n",
                "plt.axvline()\n",
                "Adds a vertical line across the axes\n",
                "\n",
                "plt.axhline()\n",
                "Add a horizontal line across the axes\n",
                "\n",
                "plt.legend()\n",
                "Place a legend on the axes"
            ]
        },
        {
            "cell_type": "code",
            "execution_count": 1,
            "metadata": {},
            "outputs": [],
            "source": [
                "# Import libraries\n",
                "%matplotlib inline\n",
                "import pandas as pd\n",
                "import numpy as np\n",
                "import matplotlib.pyplot as plt\n",
                "from sklearn import preprocessing\n",
                "from sklearn.metrics import mean_squared_error\n",
                "from sklearn.linear_model import LinearRegression\n",
                "from sklearn.model_selection import train_test_split\n",
                "from scipy import stats"
            ]
        },
        {
            "cell_type": "code",
            "execution_count": 2,
            "metadata": {},
            "outputs": [],
            "source": [
                "# Read the `Advertising.csv` dataframe\n",
                "\n",
                "df = pd.read_csv('Advertising.csv')"
            ]
        },
        {
            "cell_type": "code",
            "execution_count": 3,
            "metadata": {},
            "outputs": [
                {
                    "data": {
                        "text/html": [
                            "<div>\n",
                            "<style scoped>\n",
                            "    .dataframe tbody tr th:only-of-type {\n",
                            "        vertical-align: middle;\n",
                            "    }\n",
                            "\n",
                            "    .dataframe tbody tr th {\n",
                            "        vertical-align: top;\n",
                            "    }\n",
                            "\n",
                            "    .dataframe thead th {\n",
                            "        text-align: right;\n",
                            "    }\n",
                            "</style>\n",
                            "<table border=\"1\" class=\"dataframe\">\n",
                            "  <thead>\n",
                            "    <tr style=\"text-align: right;\">\n",
                            "      <th></th>\n",
                            "      <th>TV</th>\n",
                            "      <th>Radio</th>\n",
                            "      <th>Newspaper</th>\n",
                            "      <th>Sales</th>\n",
                            "    </tr>\n",
                            "  </thead>\n",
                            "  <tbody>\n",
                            "    <tr>\n",
                            "      <th>0</th>\n",
                            "      <td>230.1</td>\n",
                            "      <td>37.8</td>\n",
                            "      <td>69.2</td>\n",
                            "      <td>22.1</td>\n",
                            "    </tr>\n",
                            "    <tr>\n",
                            "      <th>1</th>\n",
                            "      <td>44.5</td>\n",
                            "      <td>39.3</td>\n",
                            "      <td>45.1</td>\n",
                            "      <td>10.4</td>\n",
                            "    </tr>\n",
                            "    <tr>\n",
                            "      <th>2</th>\n",
                            "      <td>17.2</td>\n",
                            "      <td>45.9</td>\n",
                            "      <td>69.3</td>\n",
                            "      <td>9.3</td>\n",
                            "    </tr>\n",
                            "    <tr>\n",
                            "      <th>3</th>\n",
                            "      <td>151.5</td>\n",
                            "      <td>41.3</td>\n",
                            "      <td>58.5</td>\n",
                            "      <td>18.5</td>\n",
                            "    </tr>\n",
                            "    <tr>\n",
                            "      <th>4</th>\n",
                            "      <td>180.8</td>\n",
                            "      <td>10.8</td>\n",
                            "      <td>58.4</td>\n",
                            "      <td>12.9</td>\n",
                            "    </tr>\n",
                            "  </tbody>\n",
                            "</table>\n",
                            "</div>"
                        ],
                        "text/plain": [
                            "      TV  Radio  Newspaper  Sales\n",
                            "0  230.1   37.8       69.2   22.1\n",
                            "1   44.5   39.3       45.1   10.4\n",
                            "2   17.2   45.9       69.3    9.3\n",
                            "3  151.5   41.3       58.5   18.5\n",
                            "4  180.8   10.8       58.4   12.9"
                        ]
                    },
                    "execution_count": 3,
                    "metadata": {},
                    "output_type": "execute_result"
                }
            ],
            "source": [
                "# Take a quick look at the data\n",
                "\n",
                "df.head()"
            ]
        },
        {
            "cell_type": "code",
            "execution_count": 4,
            "metadata": {},
            "outputs": [],
            "source": [
                "# This helper function computes the variance of the error term \n",
                "\n",
                "def error_func(y,y_p):\n",
                "    n = len(y)\n",
                "    return np.sqrt(np.sum((y-y_p)**2/(n-2)))"
            ]
        },
        {
            "cell_type": "code",
            "execution_count": 5,
            "metadata": {},
            "outputs": [],
            "source": [
                "# select the number of bootstraps \n",
                "\n",
                "numboot = 1000\n",
                "\n",
                "# Set the budget amount of $1000. We have used a 2d list to facilitate model prediction (sklearn.LinearRegression requires input as a 2d array)\n",
                "budget = [[1000]]\n",
                "# budget = [[1000, 0, 0]] # to answer question at the end\n",
                "\n",
                "# Define an empty list that will store sales predictions for each bootstrap\n",
                "sales_dist = []"
            ]
        },
        {
            "cell_type": "code",
            "execution_count": 6,
            "metadata": {},
            "outputs": [],
            "source": [
                "# Running through each bootstrap, we fit a model, \n",
                "# make predictions and compute sales which is appended \n",
                "# to the list defined above\n",
                "\n",
                "for i in range(numboot):\n",
                "    # Bootstrap using df.sample method.\n",
                "    df_new = df.sample(frac=1, replace=True)\n",
                "    x = df_new[['TV']].values\n",
                "    # x = df_new[['TV', 'Radio', 'Newspaper']].values # to answer question at the end\n",
                "    y = df_new['Sales'].values\n",
                "    linreg = LinearRegression()\n",
                "    linreg.fit(x, y)\n",
                "    prediction = linreg.predict(budget)[0]\n",
                "    y_pred = linreg.predict(x) \n",
                "    error = np.random.normal(0,error_func(y,y_pred))\n",
                "    # The final sales prediction is the sum of the model prediction and the error term\n",
                "    sales = prediction + error\n",
                "    sales_dist.append(sales)"
            ]
        },
        {
            "cell_type": "code",
            "execution_count": 7,
            "metadata": {},
            "outputs": [],
            "source": [
                "### edTest(test_sales) ###\n",
                "# We sort the list containing sales predictions in ascending values \n",
                "\n",
                "sales_dist.sort()\n",
                "\n",
                "# find the 95% confidence interval using np.percentile function at 2.5% and 97.5%\n",
                "\n",
                "sales_CI = (np.percentile(sales_dist, 2.5),np.percentile(sales_dist, 97.5))"
            ]
        },
        {
            "cell_type": "code",
            "execution_count": 8,
            "metadata": {},
            "outputs": [],
            "source": [
                "# Use this helper function to plot the histogram of beta values along with the 95% confidence interval\n",
                "\n",
                "def plot_simulation(simulation,confidence):\n",
                "    plt.hist(simulation, bins = 30, label = 'beta distribution', align = 'left', density = True,edgecolor='k')\n",
                "    plt.axvline(confidence[1], 0, 1, color = 'r', label = 'Right Interval')\n",
                "    plt.axvline(confidence[0], 0, 1, color = 'red', label = 'Left Interval')\n",
                "    plt.xlabel('Beta value')\n",
                "    plt.ylabel('Frequency')\n",
                "    plt.legend(frameon = False, loc = 'upper right')"
            ]
        },
        {
            "cell_type": "code",
            "execution_count": 9,
            "metadata": {},
            "outputs": [
                {
                    "data": {
                        "image/png": "[encoded data removed]",
                        "text/plain": [
                            "<Figure size 640x480 with 1 Axes>"
                        ]
                    },
                    "metadata": {},
                    "output_type": "display_data"
                }
            ],
            "source": [
                "# call the function above with the computed sales distribution and the confidence intervals from earlier\n",
                "\n",
                "plot_simulation(sales_dist,sales_CI)"
            ]
        },
        {
            "cell_type": "code",
            "execution_count": 10,
            "metadata": {},
            "outputs": [
                {
                    "name": "stdout",
                    "output_type": "stream",
                    "text": [
                        "With a TV advertising budget of $1000,\n",
                        "we can expect an increase of sales anywhere between 46.20 to 62.46 with a 95% confidence interval\n"
                    ]
                }
            ],
            "source": [
                "# Print the computed values\n",
                "\n",
                "print(f\"With a TV advertising budget of ${budget[0][0]},\")\n",
                "print(f\"we can expect an increase of sales anywhere between {sales_CI[0]:0.2f} to {sales_CI[1]:.2f}\\\n",
                " with a 95% confidence interval\")"
            ]
        },
        {
            "attachments": {},
            "cell_type": "markdown",
            "metadata": {},
            "source": [
                "## ⏸Post-exercise question\n",
                "\n",
                "Your sales prediction is based on the Simple-Linear regression model between `TV` and `Sales`.\n",
                "Now, re-run the above exercise but this time fit the model considering all variables in `Advertising.csv`.\n",
                "\n",
                "Keep the budget the same, i.e $1000 for 'TV' advertising. \n",
                "You may have to change the `budget` variable to something like `[[1000,0,0]]` for proper computation.\n",
                "\n",
                "Does your predicted sales interval change?\n",
                "Why, or why not?"
            ]
        },
        {
            "cell_type": "code",
            "execution_count": 12,
            "metadata": {},
            "outputs": [],
            "source": [
                "# Your answer here\n",
                "# Frequency is higher about 60%, and intervals:\n",
                "# min from 46.20 to 43.95\n",
                "# max from 62.46 to 53.25\n",
                "# It changed because model is checking other predictors, so it will have better confidence in results."
            ]
        }
    ],
    "metadata": {
        "kernelspec": {
            "display_name": "Python 3 (ipykernel)",
            "language": "python",
            "name": "python3"
        }
    },
    "nbformat": 4,
    "nbformat_minor": 4
}
