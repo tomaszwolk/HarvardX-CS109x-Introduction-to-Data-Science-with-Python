{
    "cells": [
        {
            "cell_type": "markdown",
            "metadata": {},
            "source": [
                "# Exercise: Simple Lasso and Ridge Regularization  \n",
                "The aim of this exercise is to understand Lasso and Ridge regularization.  \n",
                "For this we will plot the predictor vs coefficient as a horizontal bar chart. The graph will look similar to the one given below.  \n",
                "![4.3.7.image.png](4.3.7.image.png)\n",
                "\n",
                "### Instructions:  \n",
                "- Read the dataset and assign the predictor and response variables.  \n",
                "- Split the dataset into train and validation sets.  \n",
                "- Fit a multi-linear regression model.  \n",
                "- Compute the validation MSE of the model.  \n",
                "- Compute the coefficient of the predictors and store to the plot later.  \n",
                "- Implement Lasso regularization by specifying an alpha value. Repeat steps 4 and 5.  \n",
                "- Implement Ridge regularization by specifying the same alpha value. Repeat steps 4 and 5.  \n",
                "- Plot the coefficient of all the 3 models in one graph as shown above.  "
            ]
        },
        {
            "cell_type": "markdown",
            "metadata": {},
            "source": [
                "Hints:\n",
                "sklearn.normalize() \n",
                "Scales input vectors individually to the unit norm (vector length)\n",
                "\n",
                "\n",
                "sklearn.train_test_split()\n",
                "Splits the data into random train and test subsets\n",
                "\n",
                "\n",
                "sklearn.LinearRegression()\n",
                "Ordinary least squares Linear Regression.\n",
                "\n",
                "\n",
                "sklearn.fit()\n",
                "Fits the linear model to the training data\n",
                "\n",
                "\n",
                "sklearn.predict()\n",
                "Predict using the linear model. Returns the coefficient of the predictors in the model.\n",
                "\n",
                "\n",
                "mean_squared_error()\n",
                "Mean squared error regression loss\n",
                "\n",
                "\n",
                "sklearn.Lasso()\n",
                "Linear Model trained with L1 prior as regularizer (aka the Lasso).\n",
                "\n",
                "\n",
                "sklearn.Ridge()\n",
                "Linear least squares with L2 regularization"
            ]
        },
        {
            "cell_type": "code",
            "execution_count": 1,
            "metadata": {
                "collapsed": true
            },
            "outputs": [],
            "source": [
                "# Import necessary libraries\n",
                "%matplotlib inline\n",
                "import pandas as pd\n",
                "import numpy as np\n",
                "import matplotlib.pyplot as plt\n",
                "from sklearn import preprocessing\n",
                "from sklearn.linear_model import Lasso\n",
                "from sklearn.linear_model import Ridge\n",
                "from sklearn.metrics import mean_squared_error\n",
                "from sklearn.linear_model import LinearRegression\n",
                "from sklearn.model_selection import train_test_split\n",
                "from sklearn.preprocessing import PolynomialFeatures\n"
            ]
        },
        {
            "attachments": {},
            "cell_type": "markdown",
            "metadata": {},
            "source": [
                "### Reading the dataset"
            ]
        },
        {
            "cell_type": "code",
            "execution_count": 2,
            "metadata": {
                "collapsed": true
            },
            "outputs": [
                {
                    "data": {
                        "text/html": [
                            "<div>\n",
                            "<style scoped>\n",
                            "    .dataframe tbody tr th:only-of-type {\n",
                            "        vertical-align: middle;\n",
                            "    }\n",
                            "\n",
                            "    .dataframe tbody tr th {\n",
                            "        vertical-align: top;\n",
                            "    }\n",
                            "\n",
                            "    .dataframe thead th {\n",
                            "        text-align: right;\n",
                            "    }\n",
                            "</style>\n",
                            "<table border=\"1\" class=\"dataframe\">\n",
                            "  <thead>\n",
                            "    <tr style=\"text-align: right;\">\n",
                            "      <th></th>\n",
                            "      <th>crim</th>\n",
                            "      <th>indus</th>\n",
                            "      <th>nox</th>\n",
                            "      <th>rm</th>\n",
                            "      <th>age</th>\n",
                            "      <th>dis</th>\n",
                            "      <th>rad</th>\n",
                            "      <th>tax</th>\n",
                            "      <th>ptratio</th>\n",
                            "      <th>black</th>\n",
                            "      <th>lstat</th>\n",
                            "      <th>medv</th>\n",
                            "    </tr>\n",
                            "  </thead>\n",
                            "  <tbody>\n",
                            "    <tr>\n",
                            "      <th>0</th>\n",
                            "      <td>0.00632</td>\n",
                            "      <td>2.31</td>\n",
                            "      <td>0.538</td>\n",
                            "      <td>6.575</td>\n",
                            "      <td>65.2</td>\n",
                            "      <td>4.0900</td>\n",
                            "      <td>1</td>\n",
                            "      <td>296</td>\n",
                            "      <td>15.3</td>\n",
                            "      <td>396.90</td>\n",
                            "      <td>4.98</td>\n",
                            "      <td>24.0</td>\n",
                            "    </tr>\n",
                            "    <tr>\n",
                            "      <th>1</th>\n",
                            "      <td>0.02731</td>\n",
                            "      <td>7.07</td>\n",
                            "      <td>0.469</td>\n",
                            "      <td>6.421</td>\n",
                            "      <td>78.9</td>\n",
                            "      <td>4.9671</td>\n",
                            "      <td>2</td>\n",
                            "      <td>242</td>\n",
                            "      <td>17.8</td>\n",
                            "      <td>396.90</td>\n",
                            "      <td>9.14</td>\n",
                            "      <td>21.6</td>\n",
                            "    </tr>\n",
                            "    <tr>\n",
                            "      <th>2</th>\n",
                            "      <td>0.02729</td>\n",
                            "      <td>7.07</td>\n",
                            "      <td>0.469</td>\n",
                            "      <td>7.185</td>\n",
                            "      <td>61.1</td>\n",
                            "      <td>4.9671</td>\n",
                            "      <td>2</td>\n",
                            "      <td>242</td>\n",
                            "      <td>17.8</td>\n",
                            "      <td>392.83</td>\n",
                            "      <td>4.03</td>\n",
                            "      <td>34.7</td>\n",
                            "    </tr>\n",
                            "    <tr>\n",
                            "      <th>3</th>\n",
                            "      <td>0.03237</td>\n",
                            "      <td>2.18</td>\n",
                            "      <td>0.458</td>\n",
                            "      <td>6.998</td>\n",
                            "      <td>45.8</td>\n",
                            "      <td>6.0622</td>\n",
                            "      <td>3</td>\n",
                            "      <td>222</td>\n",
                            "      <td>18.7</td>\n",
                            "      <td>394.63</td>\n",
                            "      <td>2.94</td>\n",
                            "      <td>33.4</td>\n",
                            "    </tr>\n",
                            "    <tr>\n",
                            "      <th>4</th>\n",
                            "      <td>0.06905</td>\n",
                            "      <td>2.18</td>\n",
                            "      <td>0.458</td>\n",
                            "      <td>7.147</td>\n",
                            "      <td>54.2</td>\n",
                            "      <td>6.0622</td>\n",
                            "      <td>3</td>\n",
                            "      <td>222</td>\n",
                            "      <td>18.7</td>\n",
                            "      <td>396.90</td>\n",
                            "      <td>5.33</td>\n",
                            "      <td>36.2</td>\n",
                            "    </tr>\n",
                            "  </tbody>\n",
                            "</table>\n",
                            "</div>"
                        ],
                        "text/plain": [
                            "      crim  indus    nox     rm   age     dis  rad  tax  ptratio   black  \\\n",
                            "0  0.00632   2.31  0.538  6.575  65.2  4.0900    1  296     15.3  396.90   \n",
                            "1  0.02731   7.07  0.469  6.421  78.9  4.9671    2  242     17.8  396.90   \n",
                            "2  0.02729   7.07  0.469  7.185  61.1  4.9671    2  242     17.8  392.83   \n",
                            "3  0.03237   2.18  0.458  6.998  45.8  6.0622    3  222     18.7  394.63   \n",
                            "4  0.06905   2.18  0.458  7.147  54.2  6.0622    3  222     18.7  396.90   \n",
                            "\n",
                            "   lstat  medv  \n",
                            "0   4.98  24.0  \n",
                            "1   9.14  21.6  \n",
                            "2   4.03  34.7  \n",
                            "3   2.94  33.4  \n",
                            "4   5.33  36.2  "
                        ]
                    },
                    "execution_count": 2,
                    "metadata": {},
                    "output_type": "execute_result"
                }
            ],
            "source": [
                "# Read the file \"Boston_housing.csv\" as a Pandas dataframe\n",
                "df = pd.read_csv(\"Boston_housing.csv\")\n",
                "df.head()"
            ]
        },
        {
            "attachments": {},
            "cell_type": "markdown",
            "metadata": {},
            "source": [
                "## Predictors & Response variables\n",
                "\n",
                "Select the following columns as predictors\n",
                "- crim\n",
                "- indus\n",
                "- nox\n",
                "- rm\n",
                "- age\n",
                "- dis\n",
                "- rad\n",
                "- tax\n",
                "- ptratio\n",
                "- black\n",
                "- lstat\n",
                "\n",
                "#### Select the 'medv' column as response variable"
            ]
        },
        {
            "cell_type": "code",
            "execution_count": 3,
            "metadata": {},
            "outputs": [],
            "source": [
                "# Select a subdataframe of predictors mentioned above\n",
                "X = df.drop(columns=['medv'])\n",
                "\n",
                "# Normalize the values of the dataframe \n",
                "X_norm = preprocessing.normalize(X, axis=0)\n",
                "\n",
                "# Select medv as the response variable\n",
                "y = df['medv']\n"
            ]
        },
        {
            "attachments": {},
            "cell_type": "markdown",
            "metadata": {},
            "source": [
                "### Split the dataset into train and validation sets\n"
            ]
        },
        {
            "cell_type": "code",
            "execution_count": 4,
            "metadata": {},
            "outputs": [],
            "source": [
                "### edTest(test_random) ###\n",
                "# Split the data into train and validation sets with 70% train data and\n",
                "# random_state as 31\n",
                "X_train, X_val, y_train, y_val = train_test_split(X_norm, y, train_size=0.7, random_state=31)\n"
            ]
        },
        {
            "attachments": {},
            "cell_type": "markdown",
            "metadata": {},
            "source": [
                "### Multi-linear Regression Analysis"
            ]
        },
        {
            "cell_type": "code",
            "execution_count": 7,
            "metadata": {
                "collapsed": true
            },
            "outputs": [],
            "source": [
                "# Initialize a Linear Regression model\n",
                "lreg = LinearRegression()\n",
                "\n",
                "# Fit the linear model on the train data\n",
                "lreg.fit(X_train, y_train)\n",
                "\n",
                "# Predict on the validation data\n",
                "y_val_pred = lreg.predict(X_val)\n"
            ]
        },
        {
            "cell_type": "code",
            "execution_count": 8,
            "metadata": {
                "collapsed": true
            },
            "outputs": [
                {
                    "name": "stdout",
                    "output_type": "stream",
                    "text": [
                        "Multi-linear regression validation MSE is 21.581146124032514\n"
                    ]
                }
            ],
            "source": [
                "# Use the mean_squared_error function to compute the validation mse\n",
                "mse = mean_squared_error(y_val, y_val_pred)\n",
                "\n",
                "# Print the MSE value\n",
                "print (\"Multi-linear regression validation MSE is\", mse)\n"
            ]
        },
        {
            "attachments": {},
            "cell_type": "markdown",
            "metadata": {},
            "source": [
                "### Obtaining the coefficients of the predictors"
            ]
        },
        {
            "cell_type": "code",
            "execution_count": 9,
            "metadata": {},
            "outputs": [],
            "source": [
                "# Helper code to create a dictionary of the coefficients \n",
                "# along with the predictors as keys\n",
                "lreg_coef = dict(zip(X.columns, np.transpose(lreg.coef_)))\n",
                "\n",
                "# Linear regression coefficients for plotting\n",
                "lreg_x = list(lreg_coef.keys())\n",
                "lreg_y = list(lreg_coef.values())\n"
            ]
        },
        {
            "attachments": {},
            "cell_type": "markdown",
            "metadata": {},
            "source": [
                "### Implementing Lasso regularization"
            ]
        },
        {
            "cell_type": "code",
            "execution_count": 11,
            "metadata": {
                "collapsed": true
            },
            "outputs": [],
            "source": [
                "# Create a Lasso Regression model with alpha as 0.008\n",
                "lasso_reg = Lasso(alpha=0.008)\n",
                "\n",
                "# Fit the model on the train data\n",
                "lasso_reg.fit(X_train, y_train)\n",
                "\n",
                "# Predict on the validation data using the trained model\n",
                "y_val_pred = lasso_reg.predict(X_val)\n"
            ]
        },
        {
            "attachments": {},
            "cell_type": "markdown",
            "metadata": {},
            "source": [
                "### Computing the MSE with Lasso regularization"
            ]
        },
        {
            "cell_type": "code",
            "execution_count": 12,
            "metadata": {
                "collapsed": true
            },
            "outputs": [
                {
                    "name": "stdout",
                    "output_type": "stream",
                    "text": [
                        "Lasso validation MSE is 26.059895644427694\n"
                    ]
                }
            ],
            "source": [
                "# Calculate the validation MSE\n",
                "mse_lasso = mean_squared_error(y_val, y_val_pred)\n",
                "\n",
                "# Print the validation MSE\n",
                "print (\"Lasso validation MSE is\", mse_lasso)\n"
            ]
        },
        {
            "cell_type": "code",
            "execution_count": 13,
            "metadata": {
                "collapsed": true
            },
            "outputs": [],
            "source": [
                "# Hhelper code to make a dictionary of the predictors \n",
                "# along with the coefficients associated with them\n",
                "lasso_coef = dict(zip(X.columns, np.transpose(lasso_reg.coef_))) \n",
                "\n",
                "# Get the Lasso regularisation coefficients for plotting\n",
                "lasso_x = list(lasso_coef.keys())\n",
                "lasso_y = list(lasso_coef.values())\n"
            ]
        },
        {
            "attachments": {},
            "cell_type": "markdown",
            "metadata": {},
            "source": [
                "### Implementing Ridge regularization"
            ]
        },
        {
            "cell_type": "code",
            "execution_count": 14,
            "metadata": {
                "collapsed": true
            },
            "outputs": [],
            "source": [
                "# Create a Ridge Regression model with alpha as 0.008\n",
                "ridgeReg = Ridge(alpha=0.008)\n",
                "\n",
                "# Fit the model on the train data\n",
                "ridgeReg.fit(X_train, y_train)\n",
                "\n",
                "# Predict the trained model on the validation data\n",
                "y_val_pred = ridgeReg.predict(X_val)\n"
            ]
        },
        {
            "attachments": {},
            "cell_type": "markdown",
            "metadata": {},
            "source": [
                "### Computing the MSE with Ridge regularization"
            ]
        },
        {
            "cell_type": "code",
            "execution_count": 15,
            "metadata": {
                "collapsed": true
            },
            "outputs": [
                {
                    "name": "stdout",
                    "output_type": "stream",
                    "text": [
                        "Ridge validation MSE is 23.01622701783856\n"
                    ]
                }
            ],
            "source": [
                "### edTest(test_mse) ###\n",
                "\n",
                "# Calculate the validation MSE\n",
                "mse_ridge = mean_squared_error(y_val, y_val_pred)\n",
                "\n",
                "# Print he valdiation MSE\n",
                "print (\"Ridge validation MSE is\", mse_ridge)\n"
            ]
        },
        {
            "attachments": {},
            "cell_type": "markdown",
            "metadata": {},
            "source": [
                "### Obtaining the coefficients of the predictors"
            ]
        },
        {
            "cell_type": "code",
            "execution_count": 16,
            "metadata": {
                "collapsed": true
            },
            "outputs": [],
            "source": [
                "# Helper code to make a dictionary of the predictors \n",
                "# along with the coefficients associated with them \n",
                "ridge_coef = dict(zip(X.columns, np.transpose(ridgeReg.coef_))) \n",
                "\n",
                "# Ridge regularisation coefficients for plotting\n",
                "ridge_x = list(ridge_coef.keys())\n",
                "ridge_y = list(ridge_coef.values())\n"
            ]
        },
        {
            "attachments": {},
            "cell_type": "markdown",
            "metadata": {},
            "source": [
                "### Plotting the graph"
            ]
        },
        {
            "cell_type": "code",
            "execution_count": 17,
            "metadata": {
                "collapsed": true
            },
            "outputs": [
                {
                    "data": {
                        "image/png": "[encoded data removed]",
                        "text/plain": [
                            "<Figure size 640x480 with 1 Axes>"
                        ]
                    },
                    "metadata": {},
                    "output_type": "display_data"
                }
            ],
            "source": [
                "# Helper code below to visualise your results\n",
                "\n",
                "plt.rcdefaults()\n",
                "\n",
                "plt.barh(lreg_x,lreg_y,1.0, align='edge',color=\"#D3B4B4\", label=\"Linear Regression\")\n",
                "plt.barh(lasso_x,lasso_y,0.75 ,align='edge',color=\"#81BDB2\",label = \"Lasso regularisation\")\n",
                "plt.barh(ridge_x,ridge_y,0.25 ,align='edge',color=\"#7E7EC0\", label=\"Ridge regularisation\")\n",
                "plt.grid(linewidth=0.2)\n",
                "plt.xlabel(\"Coefficient\")\n",
                "plt.ylabel(\"Predictors\")\n",
                "plt.legend(loc='best')\n",
                "plt.show()\n"
            ]
        },
        {
            "attachments": {},
            "cell_type": "markdown",
            "metadata": {},
            "source": [
                "# ⏸Pause and Think about it \n",
                "\n",
                "#### ⏸ How does the performance of Lasso and Ridge regression compare with that of Linear regression?\n",
                "\n",
                "#### ⏸ Change the alpha values for both, Lasso and Ridge, to 1000. What happens to the coefficients?"
            ]
        }
    ],
    "metadata": {
        "kernelspec": {
            "display_name": "Python 3 (ipykernel)",
            "language": "python",
            "name": "python3"
        }
    },
    "nbformat": 4,
    "nbformat_minor": 4
}
