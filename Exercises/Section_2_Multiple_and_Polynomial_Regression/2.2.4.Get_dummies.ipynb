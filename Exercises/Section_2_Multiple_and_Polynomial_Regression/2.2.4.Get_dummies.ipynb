{
    "cells": [
        {
            "cell_type": "markdown",
            "id": "9e1ce49c",
            "metadata": {},
            "source": [
                "# Design Matrix: Creating Dummy/Indicator Variables  \n",
                "We've seen how adding multiple predictors can improve our models. In this exercise we'll see how categorical/qualitative variables must be one-hot encoded before they can be used to fit a model.  \n",
                "\n",
                "### Instructions:  \n",
                "- Read the file credit.csv as a Pandas DataFrame.  \n",
                "- Consider why fitting on all features fails  \n",
                "- Excluding problematic features, fit model1 and report train & test $R^2$  \n",
                "- Create `x_design_train` and `x_design_test` by appropriately encoding the problematic features  \n",
                "- Fit `model2` on new design matrix and report train & test R2  \n",
                "    - Be parsimonious: your design matrix should have the minimum number of columns required to encode all the feature information in the training data.  \n",
                "- Interpret `model2`'s coefficients and select the most important qualitative feature  \n",
                "- Fit `model3` to predict `Balance` from `Income` and the most important qualitative feature from `model2`  \n",
                "- Plot a `model3`'s predictions across the range of `Income` for all values of the qualitative feature  \n",
                "- Interpret how the qualitative feature affects the prediction line  "
            ]
        },
        {
            "cell_type": "markdown",
            "id": "bcfa8f6a",
            "metadata": {},
            "source": [
                "### Hints:  \n",
                "\n",
                "pd.get_dummies()  \n",
                "Returns a pandas DataFrame in which categorical columns have been converted to dummy/indicator variables."
            ]
        },
        {
            "cell_type": "code",
            "execution_count": 51,
            "metadata": {},
            "outputs": [],
            "source": [
                "import numpy as np\n",
                "import pandas as pd\n",
                "import seaborn as sns\n",
                "import matplotlib.pyplot as plt\n",
                "from sklearn.metrics import mean_squared_error\n",
                "from sklearn.linear_model import LinearRegression\n",
                "from sklearn.model_selection import train_test_split"
            ]
        },
        {
            "cell_type": "code",
            "execution_count": 52,
            "metadata": {},
            "outputs": [
                {
                    "data": {
                        "text/html": [
                            "<div>\n",
                            "<style scoped>\n",
                            "    .dataframe tbody tr th:only-of-type {\n",
                            "        vertical-align: middle;\n",
                            "    }\n",
                            "\n",
                            "    .dataframe tbody tr th {\n",
                            "        vertical-align: top;\n",
                            "    }\n",
                            "\n",
                            "    .dataframe thead th {\n",
                            "        text-align: right;\n",
                            "    }\n",
                            "</style>\n",
                            "<table border=\"1\" class=\"dataframe\">\n",
                            "  <thead>\n",
                            "    <tr style=\"text-align: right;\">\n",
                            "      <th></th>\n",
                            "      <th>Income</th>\n",
                            "      <th>Limit</th>\n",
                            "      <th>Rating</th>\n",
                            "      <th>Cards</th>\n",
                            "      <th>Age</th>\n",
                            "      <th>Education</th>\n",
                            "      <th>Gender</th>\n",
                            "      <th>Student</th>\n",
                            "      <th>Married</th>\n",
                            "      <th>Ethnicity</th>\n",
                            "      <th>Balance</th>\n",
                            "    </tr>\n",
                            "  </thead>\n",
                            "  <tbody>\n",
                            "    <tr>\n",
                            "      <th>0</th>\n",
                            "      <td>14.891</td>\n",
                            "      <td>3606</td>\n",
                            "      <td>283</td>\n",
                            "      <td>2</td>\n",
                            "      <td>34</td>\n",
                            "      <td>11</td>\n",
                            "      <td>Male</td>\n",
                            "      <td>No</td>\n",
                            "      <td>Yes</td>\n",
                            "      <td>Caucasian</td>\n",
                            "      <td>333</td>\n",
                            "    </tr>\n",
                            "    <tr>\n",
                            "      <th>1</th>\n",
                            "      <td>106.025</td>\n",
                            "      <td>6645</td>\n",
                            "      <td>483</td>\n",
                            "      <td>3</td>\n",
                            "      <td>82</td>\n",
                            "      <td>15</td>\n",
                            "      <td>Female</td>\n",
                            "      <td>Yes</td>\n",
                            "      <td>Yes</td>\n",
                            "      <td>Asian</td>\n",
                            "      <td>903</td>\n",
                            "    </tr>\n",
                            "    <tr>\n",
                            "      <th>2</th>\n",
                            "      <td>104.593</td>\n",
                            "      <td>7075</td>\n",
                            "      <td>514</td>\n",
                            "      <td>4</td>\n",
                            "      <td>71</td>\n",
                            "      <td>11</td>\n",
                            "      <td>Male</td>\n",
                            "      <td>No</td>\n",
                            "      <td>No</td>\n",
                            "      <td>Asian</td>\n",
                            "      <td>580</td>\n",
                            "    </tr>\n",
                            "    <tr>\n",
                            "      <th>3</th>\n",
                            "      <td>148.924</td>\n",
                            "      <td>9504</td>\n",
                            "      <td>681</td>\n",
                            "      <td>3</td>\n",
                            "      <td>36</td>\n",
                            "      <td>11</td>\n",
                            "      <td>Female</td>\n",
                            "      <td>No</td>\n",
                            "      <td>No</td>\n",
                            "      <td>Asian</td>\n",
                            "      <td>964</td>\n",
                            "    </tr>\n",
                            "    <tr>\n",
                            "      <th>4</th>\n",
                            "      <td>55.882</td>\n",
                            "      <td>4897</td>\n",
                            "      <td>357</td>\n",
                            "      <td>2</td>\n",
                            "      <td>68</td>\n",
                            "      <td>16</td>\n",
                            "      <td>Male</td>\n",
                            "      <td>No</td>\n",
                            "      <td>Yes</td>\n",
                            "      <td>Caucasian</td>\n",
                            "      <td>331</td>\n",
                            "    </tr>\n",
                            "  </tbody>\n",
                            "</table>\n",
                            "</div>"
                        ],
                        "text/plain": [
                            "    Income  Limit  Rating  Cards  Age  Education  Gender Student Married  \\\n",
                            "0   14.891   3606     283      2   34         11    Male      No     Yes   \n",
                            "1  106.025   6645     483      3   82         15  Female     Yes     Yes   \n",
                            "2  104.593   7075     514      4   71         11    Male      No      No   \n",
                            "3  148.924   9504     681      3   36         11  Female      No      No   \n",
                            "4   55.882   4897     357      2   68         16    Male      No     Yes   \n",
                            "\n",
                            "   Ethnicity  Balance  \n",
                            "0  Caucasian      333  \n",
                            "1      Asian      903  \n",
                            "2      Asian      580  \n",
                            "3      Asian      964  \n",
                            "4  Caucasian      331  "
                        ]
                    },
                    "execution_count": 52,
                    "metadata": {},
                    "output_type": "execute_result"
                }
            ],
            "source": [
                "# Load the credit data.\n",
                "df = pd.read_csv('credit.csv')\n",
                "df.head()"
            ]
        },
        {
            "cell_type": "code",
            "execution_count": 53,
            "metadata": {},
            "outputs": [],
            "source": [
                "# The response variable will be 'Balance.'\n",
                "x = df.drop('Balance', axis=1)\n",
                "y = df['Balance']\n",
                "x_train, x_test, y_train, y_test = train_test_split(x, y, test_size=0.2, random_state=42)"
            ]
        },
        {
            "cell_type": "code",
            "execution_count": 54,
            "metadata": {},
            "outputs": [
                {
                    "name": "stdout",
                    "output_type": "stream",
                    "text": [
                        "Error!: could not convert string to float: 'Female'\n"
                    ]
                }
            ],
            "source": [
                "# Trying to fit on all features in their current representation throws an error.\n",
                "try:\n",
                "    test_model = LinearRegression().fit(x_train, y_train)\n",
                "except Exception as e:\n",
                "    print('Error!:', e)"
            ]
        },
        {
            "attachments": {},
            "cell_type": "markdown",
            "metadata": {},
            "source": [
                "⏸️ Given this error and what you've seen of the data so far, what do you think the problem is?\n",
                "\n",
                "A. We are trying to fit on too many features/columns\\\n",
                "B. Some columns are strings\\\n",
                "C. The column names contain capital letters\\\n",
                "D. The features are on different scales"
            ]
        },
        {
            "cell_type": "code",
            "execution_count": 55,
            "metadata": {},
            "outputs": [],
            "source": [
                "### edTest(test_chow1) ###\n",
                "# Submit an answer choice as a string below.\n",
                "answer1 = 'B'"
            ]
        },
        {
            "cell_type": "code",
            "execution_count": 56,
            "metadata": {},
            "outputs": [
                {
                    "data": {
                        "text/plain": [
                            "Income       float64\n",
                            "Limit          int64\n",
                            "Rating         int64\n",
                            "Cards          int64\n",
                            "Age            int64\n",
                            "Education      int64\n",
                            "Gender        object\n",
                            "Student       object\n",
                            "Married       object\n",
                            "Ethnicity     object\n",
                            "Balance        int64\n",
                            "dtype: object"
                        ]
                    },
                    "execution_count": 56,
                    "metadata": {},
                    "output_type": "execute_result"
                }
            ],
            "source": [
                "# Inspect the data types of the DataFrame's columns.\n",
                "df.dtypes"
            ]
        },
        {
            "cell_type": "code",
            "execution_count": 57,
            "metadata": {},
            "outputs": [
                {
                    "name": "stdout",
                    "output_type": "stream",
                    "text": [
                        "Train R2: 0.8884475002185803\n",
                        "Test R2: 0.8212531865399558\n"
                    ]
                }
            ],
            "source": [
                "### edTest(test_model1) ###\n",
                "# Fit a linear model using only the numeric features in the dataframe.\n",
                "numeric_features = [\"Income\", \"Limit\", \"Rating\", \"Cards\", \"Age\", \"Education\"]\n",
                "model1 = LinearRegression().fit(x_train[numeric_features], y_train)\n",
                "\n",
                "# Report train and test R2 scores.\n",
                "train_score = model1.score(x_train[numeric_features], y_train)\n",
                "test_score = model1.score(x_test[numeric_features], y_test)\n",
                "print('Train R2:', train_score)\n",
                "print('Test R2:', test_score)"
            ]
        },
        {
            "cell_type": "code",
            "execution_count": 58,
            "metadata": {},
            "outputs": [
                {
                    "name": "stdout",
                    "output_type": "stream",
                    "text": [
                        "In the train data, Ethnicity takes on the values: ['Asian', 'Caucasian', 'African American']\n"
                    ]
                }
            ],
            "source": [
                "# Look at unique values of Ethnicity feature.\n",
                "print('In the train data, Ethnicity takes on the values:', list(x_train['Ethnicity'].unique()))"
            ]
        },
        {
            "attachments": {},
            "cell_type": "markdown",
            "metadata": {},
            "source": [
                "⏸️ From the output above, how many binary variables will be required to encode the `Ethnicity` feature? \n",
                "\n",
                "A. 1\\\n",
                "B. 2\\\n",
                "C. 3\\\n",
                "D. 4"
            ]
        },
        {
            "cell_type": "code",
            "execution_count": 59,
            "metadata": {},
            "outputs": [],
            "source": [
                "### edTest(test_chow2) ###\n",
                "# Submit an answer choice as a string below.\n",
                "answer2 = 'B'"
            ]
        },
        {
            "cell_type": "code",
            "execution_count": 77,
            "metadata": {},
            "outputs": [
                {
                    "data": {
                        "text/html": [
                            "<div>\n",
                            "<style scoped>\n",
                            "    .dataframe tbody tr th:only-of-type {\n",
                            "        vertical-align: middle;\n",
                            "    }\n",
                            "\n",
                            "    .dataframe tbody tr th {\n",
                            "        vertical-align: top;\n",
                            "    }\n",
                            "\n",
                            "    .dataframe thead th {\n",
                            "        text-align: right;\n",
                            "    }\n",
                            "</style>\n",
                            "<table border=\"1\" class=\"dataframe\">\n",
                            "  <thead>\n",
                            "    <tr style=\"text-align: right;\">\n",
                            "      <th></th>\n",
                            "      <th>Income</th>\n",
                            "      <th>Limit</th>\n",
                            "      <th>Rating</th>\n",
                            "      <th>Cards</th>\n",
                            "      <th>Age</th>\n",
                            "      <th>Education</th>\n",
                            "      <th>Gender_Female</th>\n",
                            "      <th>Student_Yes</th>\n",
                            "      <th>Married_Yes</th>\n",
                            "      <th>Ethnicity_Asian</th>\n",
                            "      <th>Ethnicity_Caucasian</th>\n",
                            "    </tr>\n",
                            "  </thead>\n",
                            "  <tbody>\n",
                            "    <tr>\n",
                            "      <th>3</th>\n",
                            "      <td>148.924</td>\n",
                            "      <td>9504</td>\n",
                            "      <td>681</td>\n",
                            "      <td>3</td>\n",
                            "      <td>36</td>\n",
                            "      <td>11</td>\n",
                            "      <td>True</td>\n",
                            "      <td>False</td>\n",
                            "      <td>False</td>\n",
                            "      <td>True</td>\n",
                            "      <td>False</td>\n",
                            "    </tr>\n",
                            "    <tr>\n",
                            "      <th>18</th>\n",
                            "      <td>49.570</td>\n",
                            "      <td>6384</td>\n",
                            "      <td>448</td>\n",
                            "      <td>1</td>\n",
                            "      <td>28</td>\n",
                            "      <td>9</td>\n",
                            "      <td>True</td>\n",
                            "      <td>False</td>\n",
                            "      <td>True</td>\n",
                            "      <td>True</td>\n",
                            "      <td>False</td>\n",
                            "    </tr>\n",
                            "    <tr>\n",
                            "      <th>202</th>\n",
                            "      <td>21.038</td>\n",
                            "      <td>1448</td>\n",
                            "      <td>145</td>\n",
                            "      <td>2</td>\n",
                            "      <td>58</td>\n",
                            "      <td>13</td>\n",
                            "      <td>True</td>\n",
                            "      <td>False</td>\n",
                            "      <td>True</td>\n",
                            "      <td>False</td>\n",
                            "      <td>True</td>\n",
                            "    </tr>\n",
                            "    <tr>\n",
                            "      <th>250</th>\n",
                            "      <td>10.363</td>\n",
                            "      <td>2430</td>\n",
                            "      <td>191</td>\n",
                            "      <td>2</td>\n",
                            "      <td>47</td>\n",
                            "      <td>18</td>\n",
                            "      <td>True</td>\n",
                            "      <td>False</td>\n",
                            "      <td>True</td>\n",
                            "      <td>True</td>\n",
                            "      <td>False</td>\n",
                            "    </tr>\n",
                            "    <tr>\n",
                            "      <th>274</th>\n",
                            "      <td>30.550</td>\n",
                            "      <td>5869</td>\n",
                            "      <td>439</td>\n",
                            "      <td>5</td>\n",
                            "      <td>81</td>\n",
                            "      <td>9</td>\n",
                            "      <td>True</td>\n",
                            "      <td>False</td>\n",
                            "      <td>False</td>\n",
                            "      <td>False</td>\n",
                            "      <td>False</td>\n",
                            "    </tr>\n",
                            "  </tbody>\n",
                            "</table>\n",
                            "</div>"
                        ],
                        "text/plain": [
                            "      Income  Limit  Rating  Cards  Age  Education  Gender_Female  \\\n",
                            "3    148.924   9504     681      3   36         11           True   \n",
                            "18    49.570   6384     448      1   28          9           True   \n",
                            "202   21.038   1448     145      2   58         13           True   \n",
                            "250   10.363   2430     191      2   47         18           True   \n",
                            "274   30.550   5869     439      5   81          9           True   \n",
                            "\n",
                            "     Student_Yes  Married_Yes  Ethnicity_Asian  Ethnicity_Caucasian  \n",
                            "3          False        False             True                False  \n",
                            "18         False         True             True                False  \n",
                            "202        False         True            False                 True  \n",
                            "250        False         True             True                False  \n",
                            "274        False        False            False                False  "
                        ]
                    },
                    "execution_count": 77,
                    "metadata": {},
                    "output_type": "execute_result"
                }
            ],
            "source": [
                "### edTest(test_design) ###\n",
                "# Create x train and test design matrices creating dummy variables for the categorical while keeping the numeric feature columns unchanged.\n",
                "# hint: use pd.get_dummies() with the drop_first hyperparameter for this\n",
                "x_train_design = pd.get_dummies(x_train, prefix=[\"Gender\", \"Student\", \"Married\", \"Ethnicity\"], drop_first=True)\n",
                "x_test_design = pd.get_dummies(x_test, prefix=[\"Gender\", \"Student\", \"Married\", \"Ethnicity\"], drop_first=True)\n",
                "x_train_design.head()"
            ]
        },
        {
            "cell_type": "code",
            "execution_count": 78,
            "metadata": {},
            "outputs": [
                {
                    "data": {
                        "text/plain": [
                            "Income                 float64\n",
                            "Limit                    int64\n",
                            "Rating                   int64\n",
                            "Cards                    int64\n",
                            "Age                      int64\n",
                            "Education                int64\n",
                            "Gender_Female             bool\n",
                            "Student_Yes               bool\n",
                            "Married_Yes               bool\n",
                            "Ethnicity_Asian           bool\n",
                            "Ethnicity_Caucasian       bool\n",
                            "dtype: object"
                        ]
                    },
                    "execution_count": 78,
                    "metadata": {},
                    "output_type": "execute_result"
                }
            ],
            "source": [
                "# Confirm that all data types are now numeric.\n",
                "x_train_design.dtypes"
            ]
        },
        {
            "cell_type": "code",
            "execution_count": 79,
            "metadata": {},
            "outputs": [
                {
                    "name": "stdout",
                    "output_type": "stream",
                    "text": [
                        "Train R2: 0.9552255011405162\n",
                        "Test R2: 0.9522674050276462\n"
                    ]
                }
            ],
            "source": [
                "### edTest(test_model2) ###\n",
                "# Fit model2 on design matrix\n",
                "model2 = LinearRegression().fit(x_train_design, y_train)\n",
                "\n",
                "# Report train and test R2 scores\n",
                "train_score = model2.score(x_train_design, y_train)\n",
                "test_score = model2.score(x_test_design, y_test)\n",
                "print('Train R2:', train_score)\n",
                "print('Test R2:', test_score)"
            ]
        },
        {
            "attachments": {},
            "cell_type": "markdown",
            "metadata": {},
            "source": [
                "⏸️ How do the $R^2$ scores of the two models compare? \n",
                "\n",
                "A. numeric only model performs better on both train and test.\\\n",
                "B. numeric only model performs better on train but worse on test.\\\n",
                "C. full model performs better on both train and test.\\\n",
                "D. full model performs better on train but worse on test."
            ]
        },
        {
            "cell_type": "code",
            "execution_count": 80,
            "metadata": {},
            "outputs": [],
            "source": [
                "### edTest(test_chow3) ###\n",
                "# Submit an answer choice as a string below.\n",
                "answer3 = 'C'"
            ]
        },
        {
            "cell_type": "code",
            "execution_count": 81,
            "metadata": {},
            "outputs": [
                {
                    "data": {
                        "text/html": [
                            "<div>\n",
                            "<style scoped>\n",
                            "    .dataframe tbody tr th:only-of-type {\n",
                            "        vertical-align: middle;\n",
                            "    }\n",
                            "\n",
                            "    .dataframe tbody tr th {\n",
                            "        vertical-align: top;\n",
                            "    }\n",
                            "\n",
                            "    .dataframe thead th {\n",
                            "        text-align: right;\n",
                            "    }\n",
                            "</style>\n",
                            "<table border=\"1\" class=\"dataframe\">\n",
                            "  <thead>\n",
                            "    <tr style=\"text-align: right;\">\n",
                            "      <th></th>\n",
                            "      <th>beta_value</th>\n",
                            "    </tr>\n",
                            "  </thead>\n",
                            "  <tbody>\n",
                            "    <tr>\n",
                            "      <th>Income</th>\n",
                            "      <td>-7.554059</td>\n",
                            "    </tr>\n",
                            "    <tr>\n",
                            "      <th>Limit</th>\n",
                            "      <td>0.198058</td>\n",
                            "    </tr>\n",
                            "    <tr>\n",
                            "      <th>Rating</th>\n",
                            "      <td>0.971292</td>\n",
                            "    </tr>\n",
                            "    <tr>\n",
                            "      <th>Cards</th>\n",
                            "      <td>19.123826</td>\n",
                            "    </tr>\n",
                            "    <tr>\n",
                            "      <th>Age</th>\n",
                            "      <td>-0.603695</td>\n",
                            "    </tr>\n",
                            "    <tr>\n",
                            "      <th>Education</th>\n",
                            "      <td>-1.078674</td>\n",
                            "    </tr>\n",
                            "    <tr>\n",
                            "      <th>Gender_Female</th>\n",
                            "      <td>-12.493725</td>\n",
                            "    </tr>\n",
                            "    <tr>\n",
                            "      <th>Student_Yes</th>\n",
                            "      <td>418.435398</td>\n",
                            "    </tr>\n",
                            "    <tr>\n",
                            "      <th>Married_Yes</th>\n",
                            "      <td>-6.150365</td>\n",
                            "    </tr>\n",
                            "    <tr>\n",
                            "      <th>Ethnicity_Asian</th>\n",
                            "      <td>13.295548</td>\n",
                            "    </tr>\n",
                            "    <tr>\n",
                            "      <th>Ethnicity_Caucasian</th>\n",
                            "      <td>11.517153</td>\n",
                            "    </tr>\n",
                            "  </tbody>\n",
                            "</table>\n",
                            "</div>"
                        ],
                        "text/plain": [
                            "                     beta_value\n",
                            "Income                -7.554059\n",
                            "Limit                  0.198058\n",
                            "Rating                 0.971292\n",
                            "Cards                 19.123826\n",
                            "Age                   -0.603695\n",
                            "Education             -1.078674\n",
                            "Gender_Female        -12.493725\n",
                            "Student_Yes          418.435398\n",
                            "Married_Yes           -6.150365\n",
                            "Ethnicity_Asian       13.295548\n",
                            "Ethnicity_Caucasian   11.517153"
                        ]
                    },
                    "execution_count": 81,
                    "metadata": {},
                    "output_type": "execute_result"
                }
            ],
            "source": [
                "# Note that the intercept is not a part of .coef_ but is instead stored in .intercept_.\n",
                "coefs = pd.DataFrame(model2.coef_, index=x_train_design.columns, columns=['beta_value'])\n",
                "coefs"
            ]
        },
        {
            "cell_type": "code",
            "execution_count": 82,
            "metadata": {},
            "outputs": [
                {
                    "data": {
                        "image/png": "[encoded data removed]",
                        "text/plain": [
                            "<Figure size 640x480 with 1 Axes>"
                        ]
                    },
                    "metadata": {},
                    "output_type": "display_data"
                }
            ],
            "source": [
                "# Visualize crude measure of feature importance.\n",
                "sns.barplot(data=coefs.T, orient='h').set(title='Model Coefficients');"
            ]
        },
        {
            "attachments": {},
            "cell_type": "markdown",
            "metadata": {},
            "source": [
                "⏸️ Base, on the plot above, which categorical feature has the strongest relationship with `Balance`?\n",
                "\n",
                "A. Cards\\\n",
                "B. Gender_Female\\\n",
                "C. Student_Yes\\\n",
                "D. Ethnicity_Caucasian"
            ]
        },
        {
            "cell_type": "code",
            "execution_count": 66,
            "metadata": {},
            "outputs": [],
            "source": [
                "### edTest(test_chow4) ###\n",
                "# Submit an answer choice as a string below.\n",
                "answer4 = 'C'"
            ]
        },
        {
            "attachments": {},
            "cell_type": "markdown",
            "metadata": {},
            "source": [
                "Fit a model to predict `Balance` from 2 predictors: `Income` and the best categorical feature from your answer."
            ]
        },
        {
            "cell_type": "code",
            "execution_count": 83,
            "metadata": {},
            "outputs": [
                {
                    "data": {
                        "text/html": [
                            "<div>\n",
                            "<style scoped>\n",
                            "    .dataframe tbody tr th:only-of-type {\n",
                            "        vertical-align: middle;\n",
                            "    }\n",
                            "\n",
                            "    .dataframe tbody tr th {\n",
                            "        vertical-align: top;\n",
                            "    }\n",
                            "\n",
                            "    .dataframe thead th {\n",
                            "        text-align: right;\n",
                            "    }\n",
                            "</style>\n",
                            "<table border=\"1\" class=\"dataframe\">\n",
                            "  <thead>\n",
                            "    <tr style=\"text-align: right;\">\n",
                            "      <th></th>\n",
                            "      <th>beta_value</th>\n",
                            "    </tr>\n",
                            "  </thead>\n",
                            "  <tbody>\n",
                            "    <tr>\n",
                            "      <th>Intercept</th>\n",
                            "      <td>177.658909</td>\n",
                            "    </tr>\n",
                            "    <tr>\n",
                            "      <th>Income</th>\n",
                            "      <td>6.773090</td>\n",
                            "    </tr>\n",
                            "    <tr>\n",
                            "      <th>Student_Yes</th>\n",
                            "      <td>371.895694</td>\n",
                            "    </tr>\n",
                            "  </tbody>\n",
                            "</table>\n",
                            "</div>"
                        ],
                        "text/plain": [
                            "             beta_value\n",
                            "Intercept    177.658909\n",
                            "Income         6.773090\n",
                            "Student_Yes  371.895694"
                        ]
                    },
                    "execution_count": 83,
                    "metadata": {},
                    "output_type": "execute_result"
                }
            ],
            "source": [
                "### edTest(test_model3) ###\n",
                "# Specify best categorical feature\n",
                "best_cat_feature = 'Student_Yes'\n",
                "\n",
                "# Define the model.\n",
                "features = ['Income', best_cat_feature]\n",
                "model3 = LinearRegression()\n",
                "model3.fit(x_train_design[features], y_train)\n",
                "\n",
                "# Collect betas from fitted model.\n",
                "beta0 = model3.intercept_\n",
                "beta1 = model3.coef_[features.index('Income')]\n",
                "beta2 = model3.coef_[features.index(best_cat_feature)]\n",
                "\n",
                "# Display betas in a DataFrame.\n",
                "coefs = pd.DataFrame([beta0, beta1, beta2], index=['Intercept']+features, columns=['beta_value'])\n",
                "coefs"
            ]
        },
        {
            "cell_type": "code",
            "execution_count": 84,
            "metadata": {},
            "outputs": [
                {
                    "data": {
                        "image/png": "[encoded data removed]",
                        "text/plain": [
                            "<Figure size 640x480 with 1 Axes>"
                        ]
                    },
                    "metadata": {},
                    "output_type": "display_data"
                }
            ],
            "source": [
                "# Visualize crude measure of feature importance.\n",
                "sns.barplot(data=coefs.T, orient='h').set(title='Model Coefficients');"
            ]
        },
        {
            "cell_type": "code",
            "execution_count": 85,
            "metadata": {},
            "outputs": [
                {
                    "data": {
                        "text/html": [
                            "<div>\n",
                            "<style scoped>\n",
                            "    .dataframe tbody tr th:only-of-type {\n",
                            "        vertical-align: middle;\n",
                            "    }\n",
                            "\n",
                            "    .dataframe tbody tr th {\n",
                            "        vertical-align: top;\n",
                            "    }\n",
                            "\n",
                            "    .dataframe thead th {\n",
                            "        text-align: right;\n",
                            "    }\n",
                            "</style>\n",
                            "<table border=\"1\" class=\"dataframe\">\n",
                            "  <thead>\n",
                            "    <tr style=\"text-align: right;\">\n",
                            "      <th></th>\n",
                            "      <th>Income</th>\n",
                            "      <th>Limit</th>\n",
                            "      <th>Rating</th>\n",
                            "      <th>Cards</th>\n",
                            "      <th>Age</th>\n",
                            "      <th>Education</th>\n",
                            "      <th>Gender_Female</th>\n",
                            "      <th>Student_Yes</th>\n",
                            "      <th>Married_Yes</th>\n",
                            "      <th>Ethnicity_Asian</th>\n",
                            "      <th>Ethnicity_Caucasian</th>\n",
                            "      <th>Balance</th>\n",
                            "    </tr>\n",
                            "  </thead>\n",
                            "  <tbody>\n",
                            "    <tr>\n",
                            "      <th>3</th>\n",
                            "      <td>148.924</td>\n",
                            "      <td>9504</td>\n",
                            "      <td>681</td>\n",
                            "      <td>3</td>\n",
                            "      <td>36</td>\n",
                            "      <td>11</td>\n",
                            "      <td>True</td>\n",
                            "      <td>False</td>\n",
                            "      <td>False</td>\n",
                            "      <td>True</td>\n",
                            "      <td>False</td>\n",
                            "      <td>964</td>\n",
                            "    </tr>\n",
                            "    <tr>\n",
                            "      <th>18</th>\n",
                            "      <td>49.570</td>\n",
                            "      <td>6384</td>\n",
                            "      <td>448</td>\n",
                            "      <td>1</td>\n",
                            "      <td>28</td>\n",
                            "      <td>9</td>\n",
                            "      <td>True</td>\n",
                            "      <td>False</td>\n",
                            "      <td>True</td>\n",
                            "      <td>True</td>\n",
                            "      <td>False</td>\n",
                            "      <td>891</td>\n",
                            "    </tr>\n",
                            "    <tr>\n",
                            "      <th>202</th>\n",
                            "      <td>21.038</td>\n",
                            "      <td>1448</td>\n",
                            "      <td>145</td>\n",
                            "      <td>2</td>\n",
                            "      <td>58</td>\n",
                            "      <td>13</td>\n",
                            "      <td>True</td>\n",
                            "      <td>False</td>\n",
                            "      <td>True</td>\n",
                            "      <td>False</td>\n",
                            "      <td>True</td>\n",
                            "      <td>0</td>\n",
                            "    </tr>\n",
                            "    <tr>\n",
                            "      <th>250</th>\n",
                            "      <td>10.363</td>\n",
                            "      <td>2430</td>\n",
                            "      <td>191</td>\n",
                            "      <td>2</td>\n",
                            "      <td>47</td>\n",
                            "      <td>18</td>\n",
                            "      <td>True</td>\n",
                            "      <td>False</td>\n",
                            "      <td>True</td>\n",
                            "      <td>True</td>\n",
                            "      <td>False</td>\n",
                            "      <td>0</td>\n",
                            "    </tr>\n",
                            "    <tr>\n",
                            "      <th>274</th>\n",
                            "      <td>30.550</td>\n",
                            "      <td>5869</td>\n",
                            "      <td>439</td>\n",
                            "      <td>5</td>\n",
                            "      <td>81</td>\n",
                            "      <td>9</td>\n",
                            "      <td>True</td>\n",
                            "      <td>False</td>\n",
                            "      <td>False</td>\n",
                            "      <td>False</td>\n",
                            "      <td>False</td>\n",
                            "      <td>967</td>\n",
                            "    </tr>\n",
                            "    <tr>\n",
                            "      <th>...</th>\n",
                            "      <td>...</td>\n",
                            "      <td>...</td>\n",
                            "      <td>...</td>\n",
                            "      <td>...</td>\n",
                            "      <td>...</td>\n",
                            "      <td>...</td>\n",
                            "      <td>...</td>\n",
                            "      <td>...</td>\n",
                            "      <td>...</td>\n",
                            "      <td>...</td>\n",
                            "      <td>...</td>\n",
                            "      <td>...</td>\n",
                            "    </tr>\n",
                            "    <tr>\n",
                            "      <th>71</th>\n",
                            "      <td>58.781</td>\n",
                            "      <td>7402</td>\n",
                            "      <td>538</td>\n",
                            "      <td>2</td>\n",
                            "      <td>81</td>\n",
                            "      <td>12</td>\n",
                            "      <td>True</td>\n",
                            "      <td>False</td>\n",
                            "      <td>True</td>\n",
                            "      <td>True</td>\n",
                            "      <td>False</td>\n",
                            "      <td>1103</td>\n",
                            "    </tr>\n",
                            "    <tr>\n",
                            "      <th>106</th>\n",
                            "      <td>16.819</td>\n",
                            "      <td>1337</td>\n",
                            "      <td>115</td>\n",
                            "      <td>2</td>\n",
                            "      <td>74</td>\n",
                            "      <td>15</td>\n",
                            "      <td>False</td>\n",
                            "      <td>False</td>\n",
                            "      <td>True</td>\n",
                            "      <td>True</td>\n",
                            "      <td>False</td>\n",
                            "      <td>0</td>\n",
                            "    </tr>\n",
                            "    <tr>\n",
                            "      <th>270</th>\n",
                            "      <td>15.866</td>\n",
                            "      <td>3085</td>\n",
                            "      <td>217</td>\n",
                            "      <td>1</td>\n",
                            "      <td>39</td>\n",
                            "      <td>13</td>\n",
                            "      <td>False</td>\n",
                            "      <td>False</td>\n",
                            "      <td>False</td>\n",
                            "      <td>False</td>\n",
                            "      <td>True</td>\n",
                            "      <td>136</td>\n",
                            "    </tr>\n",
                            "    <tr>\n",
                            "      <th>348</th>\n",
                            "      <td>13.433</td>\n",
                            "      <td>1134</td>\n",
                            "      <td>112</td>\n",
                            "      <td>3</td>\n",
                            "      <td>70</td>\n",
                            "      <td>14</td>\n",
                            "      <td>False</td>\n",
                            "      <td>False</td>\n",
                            "      <td>True</td>\n",
                            "      <td>False</td>\n",
                            "      <td>True</td>\n",
                            "      <td>0</td>\n",
                            "    </tr>\n",
                            "    <tr>\n",
                            "      <th>102</th>\n",
                            "      <td>68.713</td>\n",
                            "      <td>7582</td>\n",
                            "      <td>531</td>\n",
                            "      <td>2</td>\n",
                            "      <td>56</td>\n",
                            "      <td>16</td>\n",
                            "      <td>False</td>\n",
                            "      <td>True</td>\n",
                            "      <td>False</td>\n",
                            "      <td>False</td>\n",
                            "      <td>True</td>\n",
                            "      <td>1587</td>\n",
                            "    </tr>\n",
                            "  </tbody>\n",
                            "</table>\n",
                            "<p>320 rows × 12 columns</p>\n",
                            "</div>"
                        ],
                        "text/plain": [
                            "      Income  Limit  Rating  Cards  Age  Education  Gender_Female  \\\n",
                            "3    148.924   9504     681      3   36         11           True   \n",
                            "18    49.570   6384     448      1   28          9           True   \n",
                            "202   21.038   1448     145      2   58         13           True   \n",
                            "250   10.363   2430     191      2   47         18           True   \n",
                            "274   30.550   5869     439      5   81          9           True   \n",
                            "..       ...    ...     ...    ...  ...        ...            ...   \n",
                            "71    58.781   7402     538      2   81         12           True   \n",
                            "106   16.819   1337     115      2   74         15          False   \n",
                            "270   15.866   3085     217      1   39         13          False   \n",
                            "348   13.433   1134     112      3   70         14          False   \n",
                            "102   68.713   7582     531      2   56         16          False   \n",
                            "\n",
                            "     Student_Yes  Married_Yes  Ethnicity_Asian  Ethnicity_Caucasian  Balance  \n",
                            "3          False        False             True                False      964  \n",
                            "18         False         True             True                False      891  \n",
                            "202        False         True            False                 True        0  \n",
                            "250        False         True             True                False        0  \n",
                            "274        False        False            False                False      967  \n",
                            "..           ...          ...              ...                  ...      ...  \n",
                            "71         False         True             True                False     1103  \n",
                            "106        False         True             True                False        0  \n",
                            "270        False        False            False                 True      136  \n",
                            "348        False         True            False                 True        0  \n",
                            "102         True        False            False                 True     1587  \n",
                            "\n",
                            "[320 rows x 12 columns]"
                        ]
                    },
                    "execution_count": 85,
                    "metadata": {},
                    "output_type": "execute_result"
                }
            ],
            "source": [
                "data=pd.concat([x_train_design, y_train], axis=1)\n",
                "data"
            ]
        },
        {
            "cell_type": "code",
            "execution_count": 86,
            "metadata": {},
            "outputs": [
                {
                    "data": {
                        "text/plain": [
                            "3      False\n",
                            "18     False\n",
                            "202    False\n",
                            "250    False\n",
                            "274    False\n",
                            "       ...  \n",
                            "71     False\n",
                            "106    False\n",
                            "270    False\n",
                            "348    False\n",
                            "102     True\n",
                            "Name: Student_Yes, Length: 320, dtype: bool"
                        ]
                    },
                    "execution_count": 86,
                    "metadata": {},
                    "output_type": "execute_result"
                }
            ],
            "source": [
                "x_train_design[best_cat_feature]"
            ]
        },
        {
            "cell_type": "code",
            "execution_count": 87,
            "metadata": {},
            "outputs": [
                {
                    "data": {
                        "image/png": "[encoded data removed]",
                        "text/plain": [
                            "<Figure size 640x480 with 1 Axes>"
                        ]
                    },
                    "metadata": {},
                    "output_type": "display_data"
                }
            ],
            "source": [
                "### edTest(test_prediction_lines) ###\n",
                "# Create space of x values to predict on.\n",
                "x_space = np.linspace(x['Income'].min(), x['Income'].max(), 1000)\n",
                "\n",
                "# Generate 2 sets of predictions based on best categorical feature value.\n",
                "# When categorical feature is true/present (1)\n",
                "y_hat_yes = beta0 + beta1 * x_space + beta2 * 1\n",
                "# When categorical feature is false/absent (0)\n",
                "y_hat_no = beta0 + beta1 * x_space + beta2 * 0\n",
                "\n",
                "# Plot the 2 prediction lines for students and non-students.\n",
                "ax = sns.scatterplot(data=pd.concat([x_train_design, y_train], axis=1), x='Income', y='Balance', hue=best_cat_feature, alpha=0.8)\n",
                "ax.plot(x_space, y_hat_no)\n",
                "ax.plot(x_space, y_hat_yes);"
            ]
        },
        {
            "attachments": {},
            "cell_type": "markdown",
            "metadata": {},
            "source": [
                "⏸️ What is the effect of student status on the regression line? \n",
                "\n",
                "A. Non-students' balances increase faster with raising income (i.e., steeper slope)\\\n",
                "B. Students' balances increase faster with raising income (i.e., steeper slope)\\\n",
                "C. Non-students' higher balances on average (i.e., higher intercept)\\\n",
                "D. students' higher balances on average (i.e., higher intercept)"
            ]
        },
        {
            "cell_type": "code",
            "execution_count": 88,
            "metadata": {},
            "outputs": [],
            "source": [
                "### edTest(test_chow5) ###\n",
                "# Submit an answer choice as a string below.\n",
                "answer5 = 'D'"
            ]
        }
    ],
    "metadata": {
        "kernelspec": {
            "display_name": "Python 3 (ipykernel)",
            "language": "python",
            "name": "python3"
        }
    },
    "nbformat": 4,
    "nbformat_minor": 5
}
