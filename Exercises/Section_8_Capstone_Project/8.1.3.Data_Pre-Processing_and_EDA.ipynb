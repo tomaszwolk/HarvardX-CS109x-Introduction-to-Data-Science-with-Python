{
    "cells": [
        {
            "cell_type": "markdown",
            "metadata": {},
            "source": [
                "# Exercise: Data Pre-Processing and EDA  \n",
                "### COVID-19 Dataset  \n",
                "The goal is to **predict the urgency** with which a COVID-19 patient will need to be admitted to the hospital from the time of onset of symptoms. The dataset contains some COVID-19 symptoms and demographic information.  This dataset was collected in the peak of a COVID-19 wave and hence may have some errors and missing data. The aim of this exercise is to pre-process the given data and create a clean dataset to use for modelling and inference. Additionally, you are required to perform some EDA to understand the data better.  \n",
                "\n",
                "Primary predictors:\n",
                "- age  \n",
                "- sex  \n",
                "- cough, fever, chills, sore_throat, headache, fatigue. For each: 1 if have symptom, 0 if no symptom  \n",
                "\n",
                "Response variable:  Urgency of admission where  \n",
                "- 1 => High Urgency which means the patient was admitted within 1 day from the onset of symptoms  \n",
                "- 0 => No Urgency - everyone else  \n",
                "\n",
                "### Instructions:  \n",
                "- Import the necessary libraries  \n",
                "- Read the file covid.csv as a pandas dataframe and take a quick look at the data to understand it\n",
                "- Run checks to check if there are any missing values. If so, find the number of rows with missing values\n",
                "- Perform kNN imputation with k value as 5 to fill in the missing values. Remember Urgency is the response variable\n",
                "- Plot a graph to figure out which age group has the most urgent need for a hospital bed\n",
                "- Plot a graph to figure out which symptom is the most common one for patients with urgent need of hospitalization\n",
                "- Plot a graph to figure out whether patients with no urgency have cough as a more common symptom when compared to patients with urgent need of hospitalization\n",
                "- Split the data into train and test sets with 70% train data and the remaining for test with a random state of 60\n",
                "- Save these subsets as csv files without including the default indices"
            ]
        },
        {
            "cell_type": "markdown",
            "metadata": {},
            "source": [
                "Hints:\n",
                "pd.read_csv(filename)\n",
                " Returns a pandas dataframe containing the data and labels from the file data\n",
                "\n",
                "\n",
                "pd.to_csv(filename)\n",
                " Write to a CSV file \n",
                "\n",
                "\n",
                "df.head()\n",
                "Returns the first 5 rows of the dataframe with the column names\n",
                "\n",
                "\n",
                "KNNImputer(n_neighbors=k_value)\n",
                "Imputation for completing missing values using k-Nearest Neighbors\n",
                "\n",
                "\n",
                "plt.xlabel()\n",
                "This is used to specify the text to be displayed as the label for the x-axis\n",
                "\n",
                "\n",
                "plt.ylabel()\n",
                "This is used to specify the text to be displayed as the label for the y-axis\n",
                "\n",
                "\n",
                "plt.title()\n",
                "This is used to specify the title to be displayed for the plot \n",
                "\n",
                "\n",
                "train_test_split()\n",
                "Splits the data into random train and test subsets"
            ]
        },
        {
            "cell_type": "code",
            "execution_count": 1,
            "metadata": {},
            "outputs": [],
            "source": [
                "# Import necessary libraries\n",
                "\n",
                "# Your code here\n",
                "import pandas as pd\n",
                "import numpy as np\n",
                "import matplotlib.pyplot as plt\n",
                "from sklearn.impute import KNNImputer\n",
                "from sklearn.model_selection import train_test_split"
            ]
        },
        {
            "cell_type": "code",
            "execution_count": 2,
            "metadata": {},
            "outputs": [
                {
                    "data": {
                        "text/html": [
                            "<div>\n",
                            "<style scoped>\n",
                            "    .dataframe tbody tr th:only-of-type {\n",
                            "        vertical-align: middle;\n",
                            "    }\n",
                            "\n",
                            "    .dataframe tbody tr th {\n",
                            "        vertical-align: top;\n",
                            "    }\n",
                            "\n",
                            "    .dataframe thead th {\n",
                            "        text-align: right;\n",
                            "    }\n",
                            "</style>\n",
                            "<table border=\"1\" class=\"dataframe\">\n",
                            "  <thead>\n",
                            "    <tr style=\"text-align: right;\">\n",
                            "      <th></th>\n",
                            "      <th>age</th>\n",
                            "      <th>sex</th>\n",
                            "      <th>cough</th>\n",
                            "      <th>fever</th>\n",
                            "      <th>chills</th>\n",
                            "      <th>sore_throat</th>\n",
                            "      <th>headache</th>\n",
                            "      <th>fatigue</th>\n",
                            "      <th>Urgency</th>\n",
                            "    </tr>\n",
                            "  </thead>\n",
                            "  <tbody>\n",
                            "    <tr>\n",
                            "      <th>0</th>\n",
                            "      <td>30.0</td>\n",
                            "      <td>1.0</td>\n",
                            "      <td>0.0</td>\n",
                            "      <td>0.0</td>\n",
                            "      <td>0.0</td>\n",
                            "      <td>0.0</td>\n",
                            "      <td>0.0</td>\n",
                            "      <td>0.0</td>\n",
                            "      <td>0</td>\n",
                            "    </tr>\n",
                            "    <tr>\n",
                            "      <th>1</th>\n",
                            "      <td>47.0</td>\n",
                            "      <td>1.0</td>\n",
                            "      <td>0.0</td>\n",
                            "      <td>0.0</td>\n",
                            "      <td>0.0</td>\n",
                            "      <td>0.0</td>\n",
                            "      <td>0.0</td>\n",
                            "      <td>0.0</td>\n",
                            "      <td>0</td>\n",
                            "    </tr>\n",
                            "    <tr>\n",
                            "      <th>2</th>\n",
                            "      <td>49.0</td>\n",
                            "      <td>1.0</td>\n",
                            "      <td>0.0</td>\n",
                            "      <td>0.0</td>\n",
                            "      <td>0.0</td>\n",
                            "      <td>0.0</td>\n",
                            "      <td>0.0</td>\n",
                            "      <td>0.0</td>\n",
                            "      <td>0</td>\n",
                            "    </tr>\n",
                            "    <tr>\n",
                            "      <th>3</th>\n",
                            "      <td>50.0</td>\n",
                            "      <td>0.0</td>\n",
                            "      <td>0.0</td>\n",
                            "      <td>0.0</td>\n",
                            "      <td>0.0</td>\n",
                            "      <td>0.0</td>\n",
                            "      <td>0.0</td>\n",
                            "      <td>0.0</td>\n",
                            "      <td>0</td>\n",
                            "    </tr>\n",
                            "    <tr>\n",
                            "      <th>4</th>\n",
                            "      <td>59.0</td>\n",
                            "      <td>0.0</td>\n",
                            "      <td>0.0</td>\n",
                            "      <td>1.0</td>\n",
                            "      <td>0.0</td>\n",
                            "      <td>0.0</td>\n",
                            "      <td>0.0</td>\n",
                            "      <td>0.0</td>\n",
                            "      <td>0</td>\n",
                            "    </tr>\n",
                            "    <tr>\n",
                            "      <th>5</th>\n",
                            "      <td>30.0</td>\n",
                            "      <td>1.0</td>\n",
                            "      <td>0.0</td>\n",
                            "      <td>0.0</td>\n",
                            "      <td>0.0</td>\n",
                            "      <td>0.0</td>\n",
                            "      <td>0.0</td>\n",
                            "      <td>0.0</td>\n",
                            "      <td>0</td>\n",
                            "    </tr>\n",
                            "    <tr>\n",
                            "      <th>6</th>\n",
                            "      <td>38.0</td>\n",
                            "      <td>0.0</td>\n",
                            "      <td>1.0</td>\n",
                            "      <td>0.0</td>\n",
                            "      <td>NaN</td>\n",
                            "      <td>0.0</td>\n",
                            "      <td>0.0</td>\n",
                            "      <td>0.0</td>\n",
                            "      <td>1</td>\n",
                            "    </tr>\n",
                            "    <tr>\n",
                            "      <th>7</th>\n",
                            "      <td>45.0</td>\n",
                            "      <td>1.0</td>\n",
                            "      <td>0.0</td>\n",
                            "      <td>1.0</td>\n",
                            "      <td>0.0</td>\n",
                            "      <td>0.0</td>\n",
                            "      <td>0.0</td>\n",
                            "      <td>0.0</td>\n",
                            "      <td>1</td>\n",
                            "    </tr>\n",
                            "    <tr>\n",
                            "      <th>8</th>\n",
                            "      <td>45.0</td>\n",
                            "      <td>1.0</td>\n",
                            "      <td>0.0</td>\n",
                            "      <td>1.0</td>\n",
                            "      <td>0.0</td>\n",
                            "      <td>0.0</td>\n",
                            "      <td>0.0</td>\n",
                            "      <td>0.0</td>\n",
                            "      <td>0</td>\n",
                            "    </tr>\n",
                            "    <tr>\n",
                            "      <th>9</th>\n",
                            "      <td>45.0</td>\n",
                            "      <td>1.0</td>\n",
                            "      <td>0.0</td>\n",
                            "      <td>1.0</td>\n",
                            "      <td>0.0</td>\n",
                            "      <td>0.0</td>\n",
                            "      <td>0.0</td>\n",
                            "      <td>0.0</td>\n",
                            "      <td>0</td>\n",
                            "    </tr>\n",
                            "  </tbody>\n",
                            "</table>\n",
                            "</div>"
                        ],
                        "text/plain": [
                            "    age  sex  cough  fever  chills  sore_throat  headache  fatigue  Urgency\n",
                            "0  30.0  1.0    0.0    0.0     0.0          0.0       0.0      0.0        0\n",
                            "1  47.0  1.0    0.0    0.0     0.0          0.0       0.0      0.0        0\n",
                            "2  49.0  1.0    0.0    0.0     0.0          0.0       0.0      0.0        0\n",
                            "3  50.0  0.0    0.0    0.0     0.0          0.0       0.0      0.0        0\n",
                            "4  59.0  0.0    0.0    1.0     0.0          0.0       0.0      0.0        0\n",
                            "5  30.0  1.0    0.0    0.0     0.0          0.0       0.0      0.0        0\n",
                            "6  38.0  0.0    1.0    0.0     NaN          0.0       0.0      0.0        1\n",
                            "7  45.0  1.0    0.0    1.0     0.0          0.0       0.0      0.0        1\n",
                            "8  45.0  1.0    0.0    1.0     0.0          0.0       0.0      0.0        0\n",
                            "9  45.0  1.0    0.0    1.0     0.0          0.0       0.0      0.0        0"
                        ]
                    },
                    "execution_count": 2,
                    "metadata": {},
                    "output_type": "execute_result"
                }
            ],
            "source": [
                "# Read the datafile \"covid.csv\"\n",
                "df = pd.read_csv(\"covid.csv\")\n",
                "\n",
                "# Take a quick look at the dataframe\n",
                "df.head(10) # I use 10 so I can see at least 1 NaN\n"
            ]
        },
        {
            "cell_type": "code",
            "execution_count": 3,
            "metadata": {},
            "outputs": [
                {
                    "name": "stdout",
                    "output_type": "stream",
                    "text": [
                        "Missing values by columns: \n",
                        "age             6\n",
                        "sex             8\n",
                        "cough          11\n",
                        "fever          15\n",
                        "chills          4\n",
                        "sore_throat     6\n",
                        "headache        2\n",
                        "fatigue         4\n",
                        "Urgency         0\n",
                        "dtype: int64\n",
                        "\n"
                    ]
                }
            ],
            "source": [
                "# Check if there are any missing or Null values\n",
                "missing_values_by_columns = df.isnull().sum()\n",
                "missing_values_by_rows = df.isnull().sum(axis=1)\n",
                "print(f\"Missing values by columns: \\n{missing_values_by_columns}\", end=\"\\n\\n\") # I see that Urgency don't have missing values, otherwise I should drop them\n",
                "# print(f\"Missing values by rows: \\n{missing_values_by_rows}\")\n"
            ]
        },
        {
            "cell_type": "code",
            "execution_count": 4,
            "metadata": {},
            "outputs": [
                {
                    "name": "stdout",
                    "output_type": "stream",
                    "text": [
                        "Number of rows with null values: 37\n"
                    ]
                }
            ],
            "source": [
                "### edTest(test_na) ###\n",
                "\n",
                "# Find the number of rows with missing values\n",
                "num_null = (missing_values_by_rows > 0).sum()\n",
                "print(\"Number of rows with null values:\", num_null)\n"
            ]
        },
        {
            "cell_type": "code",
            "execution_count": 5,
            "metadata": {},
            "outputs": [
                {
                    "data": {
                        "text/plain": [
                            "array([[30. ,  1. ,  0. , ...,  0. ,  0. ,  0. ],\n",
                            "       [47. ,  1. ,  0. , ...,  0. ,  0. ,  0. ],\n",
                            "       [49. ,  1. ,  0. , ...,  0. ,  0. ,  0. ],\n",
                            "       ...,\n",
                            "       [43. ,  1. ,  0. , ...,  0. ,  0. ,  0. ],\n",
                            "       [58.6,  1. ,  0. , ...,  0. ,  0. ,  0. ],\n",
                            "       [50. ,  0. ,  0. , ...,  0. ,  0. ,  0. ]], shape=(1001, 8))"
                        ]
                    },
                    "execution_count": 5,
                    "metadata": {},
                    "output_type": "execute_result"
                }
            ],
            "source": [
                "# kNN impute the missing data\n",
                "# Use a k value of 5\n",
                "\n",
                "# Your code here\n",
                "x_knn = df.drop(['Urgency'], axis=1)\n",
                "df_imputed = KNNImputer(n_neighbors=5).fit_transform(x_knn)\n",
                "df_imputed"
            ]
        },
        {
            "cell_type": "code",
            "execution_count": 6,
            "metadata": {},
            "outputs": [
                {
                    "data": {
                        "text/html": [
                            "<div>\n",
                            "<style scoped>\n",
                            "    .dataframe tbody tr th:only-of-type {\n",
                            "        vertical-align: middle;\n",
                            "    }\n",
                            "\n",
                            "    .dataframe tbody tr th {\n",
                            "        vertical-align: top;\n",
                            "    }\n",
                            "\n",
                            "    .dataframe thead th {\n",
                            "        text-align: right;\n",
                            "    }\n",
                            "</style>\n",
                            "<table border=\"1\" class=\"dataframe\">\n",
                            "  <thead>\n",
                            "    <tr style=\"text-align: right;\">\n",
                            "      <th></th>\n",
                            "      <th>age</th>\n",
                            "      <th>sex</th>\n",
                            "      <th>cough</th>\n",
                            "      <th>fever</th>\n",
                            "      <th>chills</th>\n",
                            "      <th>sore_throat</th>\n",
                            "      <th>headache</th>\n",
                            "      <th>fatigue</th>\n",
                            "      <th>Urgency</th>\n",
                            "    </tr>\n",
                            "  </thead>\n",
                            "  <tbody>\n",
                            "    <tr>\n",
                            "      <th>0</th>\n",
                            "      <td>30.0</td>\n",
                            "      <td>1.0</td>\n",
                            "      <td>0.0</td>\n",
                            "      <td>0.0</td>\n",
                            "      <td>0.0</td>\n",
                            "      <td>0.0</td>\n",
                            "      <td>0.0</td>\n",
                            "      <td>0.0</td>\n",
                            "      <td>0</td>\n",
                            "    </tr>\n",
                            "    <tr>\n",
                            "      <th>1</th>\n",
                            "      <td>47.0</td>\n",
                            "      <td>1.0</td>\n",
                            "      <td>0.0</td>\n",
                            "      <td>0.0</td>\n",
                            "      <td>0.0</td>\n",
                            "      <td>0.0</td>\n",
                            "      <td>0.0</td>\n",
                            "      <td>0.0</td>\n",
                            "      <td>0</td>\n",
                            "    </tr>\n",
                            "    <tr>\n",
                            "      <th>2</th>\n",
                            "      <td>49.0</td>\n",
                            "      <td>1.0</td>\n",
                            "      <td>0.0</td>\n",
                            "      <td>0.0</td>\n",
                            "      <td>0.0</td>\n",
                            "      <td>0.0</td>\n",
                            "      <td>0.0</td>\n",
                            "      <td>0.0</td>\n",
                            "      <td>0</td>\n",
                            "    </tr>\n",
                            "    <tr>\n",
                            "      <th>3</th>\n",
                            "      <td>50.0</td>\n",
                            "      <td>0.0</td>\n",
                            "      <td>0.0</td>\n",
                            "      <td>0.0</td>\n",
                            "      <td>0.0</td>\n",
                            "      <td>0.0</td>\n",
                            "      <td>0.0</td>\n",
                            "      <td>0.0</td>\n",
                            "      <td>0</td>\n",
                            "    </tr>\n",
                            "    <tr>\n",
                            "      <th>4</th>\n",
                            "      <td>59.0</td>\n",
                            "      <td>0.0</td>\n",
                            "      <td>0.0</td>\n",
                            "      <td>1.0</td>\n",
                            "      <td>0.0</td>\n",
                            "      <td>0.0</td>\n",
                            "      <td>0.0</td>\n",
                            "      <td>0.0</td>\n",
                            "      <td>0</td>\n",
                            "    </tr>\n",
                            "    <tr>\n",
                            "      <th>5</th>\n",
                            "      <td>30.0</td>\n",
                            "      <td>1.0</td>\n",
                            "      <td>0.0</td>\n",
                            "      <td>0.0</td>\n",
                            "      <td>0.0</td>\n",
                            "      <td>0.0</td>\n",
                            "      <td>0.0</td>\n",
                            "      <td>0.0</td>\n",
                            "      <td>0</td>\n",
                            "    </tr>\n",
                            "    <tr>\n",
                            "      <th>6</th>\n",
                            "      <td>38.0</td>\n",
                            "      <td>0.0</td>\n",
                            "      <td>1.0</td>\n",
                            "      <td>0.0</td>\n",
                            "      <td>0.0</td>\n",
                            "      <td>0.0</td>\n",
                            "      <td>0.0</td>\n",
                            "      <td>0.0</td>\n",
                            "      <td>1</td>\n",
                            "    </tr>\n",
                            "    <tr>\n",
                            "      <th>7</th>\n",
                            "      <td>45.0</td>\n",
                            "      <td>1.0</td>\n",
                            "      <td>0.0</td>\n",
                            "      <td>1.0</td>\n",
                            "      <td>0.0</td>\n",
                            "      <td>0.0</td>\n",
                            "      <td>0.0</td>\n",
                            "      <td>0.0</td>\n",
                            "      <td>1</td>\n",
                            "    </tr>\n",
                            "    <tr>\n",
                            "      <th>8</th>\n",
                            "      <td>45.0</td>\n",
                            "      <td>1.0</td>\n",
                            "      <td>0.0</td>\n",
                            "      <td>1.0</td>\n",
                            "      <td>0.0</td>\n",
                            "      <td>0.0</td>\n",
                            "      <td>0.0</td>\n",
                            "      <td>0.0</td>\n",
                            "      <td>0</td>\n",
                            "    </tr>\n",
                            "    <tr>\n",
                            "      <th>9</th>\n",
                            "      <td>45.0</td>\n",
                            "      <td>1.0</td>\n",
                            "      <td>0.0</td>\n",
                            "      <td>1.0</td>\n",
                            "      <td>0.0</td>\n",
                            "      <td>0.0</td>\n",
                            "      <td>0.0</td>\n",
                            "      <td>0.0</td>\n",
                            "      <td>0</td>\n",
                            "    </tr>\n",
                            "  </tbody>\n",
                            "</table>\n",
                            "</div>"
                        ],
                        "text/plain": [
                            "    age  sex  cough  fever  chills  sore_throat  headache  fatigue  Urgency\n",
                            "0  30.0  1.0    0.0    0.0     0.0          0.0       0.0      0.0        0\n",
                            "1  47.0  1.0    0.0    0.0     0.0          0.0       0.0      0.0        0\n",
                            "2  49.0  1.0    0.0    0.0     0.0          0.0       0.0      0.0        0\n",
                            "3  50.0  0.0    0.0    0.0     0.0          0.0       0.0      0.0        0\n",
                            "4  59.0  0.0    0.0    1.0     0.0          0.0       0.0      0.0        0\n",
                            "5  30.0  1.0    0.0    0.0     0.0          0.0       0.0      0.0        0\n",
                            "6  38.0  0.0    1.0    0.0     0.0          0.0       0.0      0.0        1\n",
                            "7  45.0  1.0    0.0    1.0     0.0          0.0       0.0      0.0        1\n",
                            "8  45.0  1.0    0.0    1.0     0.0          0.0       0.0      0.0        0\n",
                            "9  45.0  1.0    0.0    1.0     0.0          0.0       0.0      0.0        0"
                        ]
                    },
                    "execution_count": 6,
                    "metadata": {},
                    "output_type": "execute_result"
                }
            ],
            "source": [
                "### edTest(test_impute) ###\n",
                "# Replace the original dataframe with the imputed data, continue to use df for the dataframe\n",
                "\n",
                "# Your code here\n",
                "df_imputed = pd.DataFrame(df_imputed, columns=x_knn.columns)\n",
                "df_imputed[\"Urgency\"] = df[\"Urgency\"]\n",
                "df = df_imputed\n",
                "df.head(10)"
            ]
        },
        {
            "attachments": {},
            "cell_type": "markdown",
            "metadata": {},
            "source": [
                "## EDA"
            ]
        },
        {
            "cell_type": "code",
            "execution_count": 7,
            "metadata": {},
            "outputs": [
                {
                    "data": {
                        "text/plain": [
                            "Text(0, 0.5, 'Number of Urgency')"
                        ]
                    },
                    "execution_count": 7,
                    "metadata": {},
                    "output_type": "execute_result"
                },
                {
                    "data": {
                        "image/png": "[encoded data removed]",
                        "text/plain": [
                            "<Figure size 640x480 with 1 Axes>"
                        ]
                    },
                    "metadata": {},
                    "output_type": "display_data"
                }
            ],
            "source": [
                "# Plot an appropriate graph to answer the following question\n",
                "# Your code here\n",
                "\n",
                "fig, ax = plt.subplots(1, 1)\n",
                "bins = np.linspace(0, 100, 11).astype(int)\n",
                "ax.hist(df[\"age\"], bins)\n",
                "ax.set_xlabel(\"Age\")\n",
                "ax.set_ylabel(\"Number of Urgency\")"
            ]
        },
        {
            "attachments": {},
            "cell_type": "markdown",
            "metadata": {},
            "source": [
                "### ⏸ Which age group has the most urgent need for a hospital bed?\n",
                "\n",
                "#### A. 60 - 70 \n",
                "\n",
                "#### B. 50 - 60 \n",
                "\n",
                "#### C. 20 - 30\n",
                "\n",
                "#### D. 40 - 50"
            ]
        },
        {
            "cell_type": "code",
            "execution_count": 8,
            "metadata": {},
            "outputs": [],
            "source": [
                "### edTest(test_chow1) ###\n",
                "# Submit an answer choice as a string below (eg. if you choose option A, put 'A')\n",
                "answer1 = 'D'\n"
            ]
        },
        {
            "cell_type": "code",
            "execution_count": 9,
            "metadata": {},
            "outputs": [
                {
                    "data": {
                        "text/plain": [
                            "<BarContainer object of 4 artists>"
                        ]
                    },
                    "execution_count": 9,
                    "metadata": {},
                    "output_type": "execute_result"
                },
                {
                    "data": {
                        "image/png": "[encoded data removed]",
                        "text/plain": [
                            "<Figure size 800x400 with 1 Axes>"
                        ]
                    },
                    "metadata": {},
                    "output_type": "display_data"
                }
            ],
            "source": [
                "# Plot an appropriate graph to answer the following question    \n",
                "# Your code here\n",
                "\n",
                "# Setup a grid for plotting data\n",
                "fig, ax = plt.subplots(figsize=(8, 4))\n",
                "\n",
                "# Get data for patients with Urgency == 1\n",
                "symptoms = [\"cough\", \"fever\", \"sore_throat\", \"fatigue\"]\n",
                "patients_with_urgency = df[df[\"Urgency\"] == 1]\n",
                "count_symptoms = patients_with_urgency[symptoms].sum(axis=0).values\n",
                "column_names = patients_with_urgency[symptoms].columns\n",
                "\n",
                "# Plot\n",
                "ax.bar(column_names, count_symptoms)"
            ]
        },
        {
            "attachments": {},
            "cell_type": "markdown",
            "metadata": {},
            "source": [
                "### ⏸ Among the following symptoms, which is the most common one for patients with urgent need of hospitalization?\n",
                "\n",
                "#### A. Cough\n",
                "\n",
                "#### B. Fever\n",
                "\n",
                "#### C. Sore Throat\n",
                "\n",
                "#### D. Fatigue"
            ]
        },
        {
            "cell_type": "code",
            "execution_count": 10,
            "metadata": {},
            "outputs": [],
            "source": [
                "### edTest(test_chow2) ###\n",
                "# Submit an answer choice as a string below (eg. if you choose option A, put 'A')\n",
                "answer2 = 'B'"
            ]
        },
        {
            "cell_type": "code",
            "execution_count": 11,
            "metadata": {},
            "outputs": [
                {
                    "name": "stdout",
                    "output_type": "stream",
                    "text": [
                        "Number of patiens with cough and Urgent are: 492, and not Urgent: 509\n"
                    ]
                },
                {
                    "data": {
                        "text/plain": [
                            "Text(0, 0.5, 'Number of cough')"
                        ]
                    },
                    "execution_count": 11,
                    "metadata": {},
                    "output_type": "execute_result"
                },
                {
                    "data": {
                        "image/png": "[encoded data removed]",
                        "text/plain": [
                            "<Figure size 400x400 with 1 Axes>"
                        ]
                    },
                    "metadata": {},
                    "output_type": "display_data"
                }
            ],
            "source": [
                "# Plot an appropriate graph to answer the following question    \n",
                "# Your code here\n",
                "\n",
                "# Setup grid\n",
                "fig, ax = plt.subplots(figsize=(4, 4))\n",
                "\n",
                "# Data with Cough and Urgency\n",
                "cough_table = df[[\"cough\", \"Urgency\"]]\n",
                "cough_with_urgency = cough_table[\"Urgency\"].sum()\n",
                "cough_without_urgency = cough_table.shape[0] - cough_with_urgency\n",
                "print(f\"Number of patiens with cough and Urgent are: {cough_with_urgency}, and not Urgent: {cough_without_urgency}\")\n",
                "ax.bar([\"With urgency\", \"Without urgency\"], [cough_with_urgency, cough_without_urgency])\n",
                "ax.set_ylabel(\"Number of cough\")"
            ]
        },
        {
            "attachments": {},
            "cell_type": "markdown",
            "metadata": {},
            "source": [
                "    ### ⏸ As compared to patients with urgent need of hospitalization, patients with no urgency have cough as a more common symptom?\n",
                "\n",
                "#### A. True\n",
                "\n",
                "#### B. False\n",
                "\n",
                "#### C. It is the same\n",
                "\n",
                "#### D. Cannot say"
            ]
        },
        {
            "cell_type": "code",
            "execution_count": 12,
            "metadata": {},
            "outputs": [],
            "source": [
                "### edTest(test_chow3) ###\n",
                "# Submit an answer choice as a string below (eg. if you choose option A, put 'A')\n",
                "answer3 = 'A'"
            ]
        },
        {
            "attachments": {},
            "cell_type": "markdown",
            "metadata": {},
            "source": [
                "### Train Test Split"
            ]
        },
        {
            "cell_type": "code",
            "execution_count": 13,
            "metadata": {},
            "outputs": [],
            "source": [
                "### edTest(test_split) ###\n",
                "# Split the data into train and test sets with 70% for training\n",
                "# Use random state of 60 and set of data as the train split\n",
                "\n",
                "# Your code here\n",
                "df_train, df_test = train_test_split(df, train_size=0.7, random_state=60)"
            ]
        },
        {
            "cell_type": "code",
            "execution_count": 14,
            "metadata": {},
            "outputs": [],
            "source": [
                "# Save the train data into a csv called \"covid_train.csv\"\n",
                "# Remember to not include the default indices\n",
                "df_train.to_csv(\"covid_train.csv\", index=False)\n",
                "\n",
                "# Save the test data into a csv called \"covid_test.csv\"\n",
                "# Remember to not include the default indices\n",
                "df_test.to_csv(\"covid_test.csv\", index=False)\n"
            ]
        }
    ],
    "metadata": {
        "kernelspec": {
            "display_name": "Python 3 (ipykernel)",
            "language": "python",
            "name": "python3"
        }
    },
    "nbformat": 4,
    "nbformat_minor": 4
}
