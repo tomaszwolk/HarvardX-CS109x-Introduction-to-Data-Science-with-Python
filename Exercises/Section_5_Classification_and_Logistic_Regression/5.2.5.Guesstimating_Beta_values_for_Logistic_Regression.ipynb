{
    "cells": [
        {
            "cell_type": "markdown",
            "metadata": {},
            "source": [
                "# Exercise: Guesstimating Beta values for Logistic Regression  \n",
                "The goal of the exercise is to produce a plot similar to the one given below, by guesstimating the values of the coefficient estimates for $β_0$ and $β_1$​.\n",
                "![5.2.5.image.png](5.2.5.image.png)\n",
                "\n",
                "Instructions:  \n",
                "We are trying to predict who will claim insurance as a function of age using the data. To do so we need:\n",
                "- Read the `insurance_claim.csv` as a dataframe.  \n",
                "- Assign the predictor and response variables.  \n",
                "- Guesstimate the values of the coefficients $β_0$ and $β_1$​.  \n",
                "- Predict the response variable using the formula of a simple logistic regression given below (no package a  lowed) \n",
                "- Compute the accuracy of the model.  \n",
                "- Repeat the above steps by changing the values of the coefficients $β_0$ and $β_1$, until you get \"good\" a  curacy.  \n",
                "- Plot the Insurance Claim vs. Age graph with the fit of the model.  \n",
                "\n",
                "Hints:  \n",
                "- Logistic Regression equation:  \n",
                "$$ P(Y = 1) = \\frac{1}{1 + e^{-(\\beta_0 + \\beta_1 X)}} $$\n",
                "\n",
                "plt.plot()\n",
                "Plots x versus y as lines and/or markers\n",
                "\n",
                "sklearn.accuracy_score()\n",
                "Accuracy classification score\n",
                "\n",
                "plt.xticks()\n",
                "Get or set the current tick locations and labels of the x-axis.\n",
                "\n",
                "plt.yticks()\n",
                "Get or set the current tick locations and labels of the y-axis.\n",
                "\n",
                "plt.xlabel()\n",
                "Set the label for the x-axis.\n",
                "\n",
                "plt.ylabel()\n",
                "Set the label for the y-axis.\n",
                "​\n"
            ]
        },
        {
            "cell_type": "code",
            "execution_count": 1,
            "metadata": {},
            "outputs": [],
            "source": [
                "# import important libraries\n",
                "\n",
                "%matplotlib inline\n",
                "import sys\n",
                "import numpy as np\n",
                "import pandas as pd\n",
                "from math import exp\n",
                "import matplotlib.pyplot as plt\n",
                "from sklearn.preprocessing import normalize\n",
                "from sklearn.metrics import accuracy_score"
            ]
        },
        {
            "cell_type": "code",
            "execution_count": 2,
            "metadata": {},
            "outputs": [],
            "source": [
                "# Make a dataframe of the file \"insurance_claim.csv\"\n",
                "\n",
                "data_filename = 'insurance_claim.csv'\n",
                "df = pd.read_csv(data_filename)"
            ]
        },
        {
            "cell_type": "code",
            "execution_count": 3,
            "metadata": {},
            "outputs": [
                {
                    "data": {
                        "text/html": [
                            "<div>\n",
                            "<style scoped>\n",
                            "    .dataframe tbody tr th:only-of-type {\n",
                            "        vertical-align: middle;\n",
                            "    }\n",
                            "\n",
                            "    .dataframe tbody tr th {\n",
                            "        vertical-align: top;\n",
                            "    }\n",
                            "\n",
                            "    .dataframe thead th {\n",
                            "        text-align: right;\n",
                            "    }\n",
                            "</style>\n",
                            "<table border=\"1\" class=\"dataframe\">\n",
                            "  <thead>\n",
                            "    <tr style=\"text-align: right;\">\n",
                            "      <th></th>\n",
                            "      <th>age</th>\n",
                            "      <th>insuranceclaim</th>\n",
                            "    </tr>\n",
                            "  </thead>\n",
                            "  <tbody>\n",
                            "    <tr>\n",
                            "      <th>0</th>\n",
                            "      <td>18.437371</td>\n",
                            "      <td>0</td>\n",
                            "    </tr>\n",
                            "    <tr>\n",
                            "      <th>1</th>\n",
                            "      <td>19.539508</td>\n",
                            "      <td>0</td>\n",
                            "    </tr>\n",
                            "    <tr>\n",
                            "      <th>2</th>\n",
                            "      <td>19.921685</td>\n",
                            "      <td>0</td>\n",
                            "    </tr>\n",
                            "    <tr>\n",
                            "      <th>3</th>\n",
                            "      <td>20.625442</td>\n",
                            "      <td>0</td>\n",
                            "    </tr>\n",
                            "    <tr>\n",
                            "      <th>4</th>\n",
                            "      <td>21.139852</td>\n",
                            "      <td>0</td>\n",
                            "    </tr>\n",
                            "  </tbody>\n",
                            "</table>\n",
                            "</div>"
                        ],
                        "text/plain": [
                            "         age  insuranceclaim\n",
                            "0  18.437371               0\n",
                            "1  19.539508               0\n",
                            "2  19.921685               0\n",
                            "3  20.625442               0\n",
                            "4  21.139852               0"
                        ]
                    },
                    "execution_count": 3,
                    "metadata": {},
                    "output_type": "execute_result"
                }
            ],
            "source": [
                "# Take a quick look of the data, notice that the response variable is binary\n",
                "\n",
                "df.head()"
            ]
        },
        {
            "cell_type": "code",
            "execution_count": 4,
            "metadata": {},
            "outputs": [],
            "source": [
                "# Assign age as the predictor variable \n",
                "x = df[\"age\"].values\n",
                "\n",
                "# Assign insuranceclaim as the response variable\n",
                "y = df[\"insuranceclaim\"].values\n"
            ]
        },
        {
            "cell_type": "code",
            "execution_count": 5,
            "metadata": {},
            "outputs": [
                {
                    "data": {
                        "image/png": "[encoded data removed]",
                        "text/plain": [
                            "<Figure size 640x480 with 1 Axes>"
                        ]
                    },
                    "metadata": {},
                    "output_type": "display_data"
                }
            ],
            "source": [
                "# Make a plot of the response (insuranceclaim) vs the predictor (age)\n",
                "plt.plot(x,y,'o', markersize=7,color=\"#011DAD\",label=\"Data\")\n",
                "\n",
                "# Add the labels for the axes\n",
                "plt.xlabel(\"Age\")\n",
                "plt.ylabel(\"Insurance claim\")\n",
                "\n",
                "plt.xticks(np.arange(18, 80, 4.0))\n",
                "\n",
                "# Label the value 1 as 'Yes' & 0 as 'No'\n",
                "plt.yticks((0,1), labels=('No', 'Yes'))\n",
                "plt.legend(loc='best')\n",
                "plt.show()"
            ]
        },
        {
            "attachments": {},
            "cell_type": "markdown",
            "metadata": {},
            "source": [
                "Guesstimate the values of $\\beta_0$ & $\\beta_1$\n",
                "\n",
                "Refer to the logistic regression slides for information of how they affect the shape of the logistic (sigmoid) curve. \n",
                "\n",
                "*Hint: It may help to focus on the age value that looks like the point of change in the plot. The logistic regression formula should result in a 0.5 probability with your guesstimated betas for that age value in order to achieve a good accuracy.*\n"
            ]
        },
        {
            "cell_type": "code",
            "execution_count": 6,
            "metadata": {},
            "outputs": [],
            "source": [
                "### edTest(test_beta_guesstimate) ###\n",
                "\n",
                "beta0 = -39\n",
                "\n",
                "beta1 = 1\n"
            ]
        },
        {
            "attachments": {},
            "cell_type": "markdown",
            "metadata": {},
            "source": [
                "Define the logistic function below and use it to predict the probability of a positive response value given each value of `age` in the dataset.\n",
                "\n",
                "Store these predicted probabilities in the variable `probas` which can be a list or array. You can do this through looping or take advantage of vector operations.\n",
                "\n",
                "Note: It is acceptable for this exercise to access the external `beta0` & `beta1` variables in your `logistic` function.\n",
                "\n",
                "Hint: `np.exp()` may be useful here."
            ]
        },
        {
            "cell_type": "code",
            "execution_count": 7,
            "metadata": {},
            "outputs": [],
            "source": [
                "### edTest(test_beta_computation) ###\n",
                "def logistic(x):\n",
                "    return 1 / (1 + np.exp(-(beta0 + beta1 * x)))\n",
                "    \n",
                "# P(y=1|x_i) for each x_i in x\n",
                "probas = [logistic(age) for age in df['age']]"
            ]
        },
        {
            "attachments": {},
            "cell_type": "markdown",
            "metadata": {},
            "source": [
                "**Convert the probabilities to classifications**\n",
                "\n",
                "If the predictions are above a threshold of 0.5, predict 1, otherwise predict 0. Store the predicted class labels in `y_pred`\n"
            ]
        },
        {
            "cell_type": "code",
            "execution_count": 8,
            "metadata": {},
            "outputs": [
                {
                    "data": {
                        "text/plain": [
                            "(45, 55)"
                        ]
                    },
                    "execution_count": 8,
                    "metadata": {},
                    "output_type": "execute_result"
                }
            ],
            "source": [
                "# Get classification predictions\n",
                "\n",
                "y_pred = [1 if prob > 0.5 else 0 for prob in probas]\n",
                "y_pred.count(0), y_pred.count(1)"
            ]
        },
        {
            "attachments": {},
            "cell_type": "markdown",
            "metadata": {},
            "source": [
                "**Calculate Accuracy**\n",
                "\n",
                "See if you can get an accuracy above 90%"
            ]
        },
        {
            "cell_type": "code",
            "execution_count": 9,
            "metadata": {},
            "outputs": [
                {
                    "name": "stdout",
                    "output_type": "stream",
                    "text": [
                        "1.0\n"
                    ]
                }
            ],
            "source": [
                "### edTest(test_acc) ###\n",
                "# Use accuracy_score function to find the accuracy \n",
                "\n",
                "accuracy = accuracy_score(y, y_pred)\n",
                "\n",
                "# Print the accuracy\n",
                "print(accuracy)"
            ]
        },
        {
            "attachments": {},
            "cell_type": "markdown",
            "metadata": {},
            "source": [
                "Complete the plot by providing the correct data (see label arguments for guidance).\n",
                "\n",
                "This plot will help you adjust your betas for better accuracy."
            ]
        },
        {
            "cell_type": "code",
            "execution_count": 10,
            "metadata": {},
            "outputs": [
                {
                    "data": {
                        "image/png": "[encoded data removed]",
                        "text/plain": [
                            "<Figure size 640x480 with 1 Axes>"
                        ]
                    },
                    "metadata": {},
                    "output_type": "display_data"
                }
            ],
            "source": [
                "# Make a plot similar to the one above along with the fit curve\n",
                "plt.plot(x, y,'o', markersize=7,color=\"#011DAD\",label=\"Data\")\n",
                "\n",
                "plt.plot(x,y,linewidth=2,color='black',label=\"Classifications\")\n",
                "plt.plot(x,probas,linewidth=2,color='red',label=\"Probabilities\")\n",
                "\n",
                "plt.xticks(np.arange(18, 80, 4.0))\n",
                "plt.xlabel(\"Age\")\n",
                "plt.ylabel(\"Insurance claim\")\n",
                "plt.yticks((0,1), labels=('No', 'Yes'))\n",
                "plt.legend()\n",
                "plt.show()"
            ]
        },
        {
            "attachments": {},
            "cell_type": "markdown",
            "metadata": {},
            "source": [
                "## ⏸ Post exercise question:\n",
                "\n",
                "In this exercise, you may have had to stumble around to find the right values of $\\beta_0$ and $\\beta_1$ to get accurate results.\n",
                "\n",
                "Although you may have used visual inspection to find a good fit, in most problems you would need a quantative method to measure the performance of your model. (*Loss function*)\n",
                "\n",
                "Which of the following below are **NOT** possible ways of quantifying the performance of the model.\n",
                "\n",
                "- A. Compute the mean squared error loss of the predicted labels.\n",
                "- B. Evaluate the log-likelihood for this Bernoulli response variable.\n",
                "- C. Go the the temple of Apollo at Delphi, and ask the high priestess Pythia\n",
                "- D. Compute the total number of misclassified labels."
            ]
        },
        {
            "cell_type": "code",
            "execution_count": 11,
            "metadata": {},
            "outputs": [],
            "source": [
                "### edTest(test_quiz) ###\n",
                "\n",
                "# Put down your answers in a string format below (using quotes)\n",
                "\n",
                "# for. eg, if you think the options are 'A' & 'B', input below as \"A,B\"\n",
                "\n",
                "answer = \"C\""
            ]
        }
    ],
    "metadata": {
        "kernelspec": {
            "display_name": "Python 3 (ipykernel)",
            "language": "python",
            "name": "python3"
        }
    },
    "nbformat": 4,
    "nbformat_minor": 4
}
