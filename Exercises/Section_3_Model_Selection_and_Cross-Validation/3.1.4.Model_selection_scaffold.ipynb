{
    "cells": [
        {
            "cell_type": "markdown",
            "metadata": {},
            "source": [
                "# Model Selection  \n",
                "The aim of this exercise is to train 5 models - a Linear Regression model, two Polynomial Regression models and two kNN regression models- and decide which among them is the best?  \n",
                "\n",
                "### Instructions:\n",
                "- Read the data from the csv file into a Pandas dataframe.  \n",
                "- Take a quick look at the dataframe and assing column x values as the predictor variable and column y values as the response variable.  \n",
                "- Split the data into train and test sets based on the specifications provided in the scaffold.  \n",
                "- Initialize an empty list to store the MSE of each model prediction.  \n",
                "- Create 5 models, a simple Linear Regression, a Polynomial Regression model of degree 2, a Polynomial Regression model of degree 5, a kNN model with 2 neighbor and finally a kNN model with 20 neighbor.  \n",
                "  - For each of these models, train the model on the train data  \n",
                "  - Predict on the test data  \n",
                "  - Compute the mean squared error on the test data predictions  \n",
                "  - Append the error to the list initialized above  \n",
                "- Use the helper code to view the errors for each model to select the best model"
            ]
        },
        {
            "cell_type": "code",
            "execution_count": 1,
            "metadata": {
                "scrolled": true
            },
            "outputs": [
                {
                    "ename": "ModuleNotFoundError",
                    "evalue": "No module named 'prettytable'",
                    "output_type": "error",
                    "traceback": [
                        "\u001b[31m---------------------------------------------------------------------------\u001b[39m",
                        "\u001b[31mModuleNotFoundError\u001b[39m                       Traceback (most recent call last)",
                        "\u001b[36mCell\u001b[39m\u001b[36m \u001b[39m\u001b[32mIn[1]\u001b[39m\u001b[32m, line 7\u001b[39m\n\u001b[32m      5\u001b[39m \u001b[38;5;28;01mimport\u001b[39;00m\u001b[38;5;250m \u001b[39m\u001b[34;01mpandas\u001b[39;00m\u001b[38;5;250m \u001b[39m\u001b[38;5;28;01mas\u001b[39;00m\u001b[38;5;250m \u001b[39m\u001b[34;01mpd\u001b[39;00m\n\u001b[32m      6\u001b[39m \u001b[38;5;28;01mimport\u001b[39;00m\u001b[38;5;250m \u001b[39m\u001b[34;01mmatplotlib\u001b[39;00m\u001b[34;01m.\u001b[39;00m\u001b[34;01mpyplot\u001b[39;00m\u001b[38;5;250m \u001b[39m\u001b[38;5;28;01mas\u001b[39;00m\u001b[38;5;250m \u001b[39m\u001b[34;01mplt\u001b[39;00m\n\u001b[32m----> \u001b[39m\u001b[32m7\u001b[39m \u001b[38;5;28;01mfrom\u001b[39;00m\u001b[38;5;250m \u001b[39m\u001b[34;01mprettytable\u001b[39;00m\u001b[38;5;250m \u001b[39m\u001b[38;5;28;01mimport\u001b[39;00m PrettyTable\n\u001b[32m      8\u001b[39m \u001b[38;5;28;01mfrom\u001b[39;00m\u001b[38;5;250m \u001b[39m\u001b[34;01msklearn\u001b[39;00m\u001b[34;01m.\u001b[39;00m\u001b[34;01mmetrics\u001b[39;00m\u001b[38;5;250m \u001b[39m\u001b[38;5;28;01mimport\u001b[39;00m mean_squared_error\n\u001b[32m      9\u001b[39m \u001b[38;5;28;01mfrom\u001b[39;00m\u001b[38;5;250m \u001b[39m\u001b[34;01msklearn\u001b[39;00m\u001b[34;01m.\u001b[39;00m\u001b[34;01mneighbors\u001b[39;00m\u001b[38;5;250m \u001b[39m\u001b[38;5;28;01mimport\u001b[39;00m KNeighborsRegressor\n",
                        "\u001b[31mModuleNotFoundError\u001b[39m: No module named 'prettytable'"
                    ]
                }
            ],
            "source": [
                "# Import necessary libraries\n",
                "import operator\n",
                "%matplotlib inline\n",
                "import numpy as np\n",
                "import pandas as pd\n",
                "import matplotlib.pyplot as plt\n",
                "from prettytable import PrettyTable\n",
                "from sklearn.metrics import mean_squared_error\n",
                "from sklearn.neighbors import KNeighborsRegressor\n",
                "from sklearn.linear_model import LinearRegression\n",
                "from sklearn.model_selection import train_test_split\n",
                "from sklearn.preprocessing import PolynomialFeatures\n"
            ]
        },
        {
            "cell_type": "code",
            "execution_count": null,
            "metadata": {},
            "outputs": [
                {
                    "data": {
                        "text/html": [
                            "<div>\n",
                            "<style scoped>\n",
                            "    .dataframe tbody tr th:only-of-type {\n",
                            "        vertical-align: middle;\n",
                            "    }\n",
                            "\n",
                            "    .dataframe tbody tr th {\n",
                            "        vertical-align: top;\n",
                            "    }\n",
                            "\n",
                            "    .dataframe thead th {\n",
                            "        text-align: right;\n",
                            "    }\n",
                            "</style>\n",
                            "<table border=\"1\" class=\"dataframe\">\n",
                            "  <thead>\n",
                            "    <tr style=\"text-align: right;\">\n",
                            "      <th></th>\n",
                            "      <th>x</th>\n",
                            "      <th>y</th>\n",
                            "    </tr>\n",
                            "  </thead>\n",
                            "  <tbody>\n",
                            "    <tr>\n",
                            "      <th>0</th>\n",
                            "      <td>4.98</td>\n",
                            "      <td>24.0</td>\n",
                            "    </tr>\n",
                            "    <tr>\n",
                            "      <th>1</th>\n",
                            "      <td>9.14</td>\n",
                            "      <td>21.6</td>\n",
                            "    </tr>\n",
                            "    <tr>\n",
                            "      <th>2</th>\n",
                            "      <td>4.03</td>\n",
                            "      <td>34.7</td>\n",
                            "    </tr>\n",
                            "    <tr>\n",
                            "      <th>3</th>\n",
                            "      <td>2.94</td>\n",
                            "      <td>33.4</td>\n",
                            "    </tr>\n",
                            "    <tr>\n",
                            "      <th>4</th>\n",
                            "      <td>5.33</td>\n",
                            "      <td>36.2</td>\n",
                            "    </tr>\n",
                            "  </tbody>\n",
                            "</table>\n",
                            "</div>"
                        ],
                        "text/plain": [
                            "      x     y\n",
                            "0  4.98  24.0\n",
                            "1  9.14  21.6\n",
                            "2  4.03  34.7\n",
                            "3  2.94  33.4\n",
                            "4  5.33  36.2"
                        ]
                    },
                    "execution_count": 20,
                    "metadata": {},
                    "output_type": "execute_result"
                }
            ],
            "source": [
                "# Load the data from the csv file\n",
                "df = pd.read_csv(\"dataset.csv\")\n",
                "\n",
                "# Take a quick look at the data\n",
                "df.head()\n"
            ]
        },
        {
            "cell_type": "code",
            "execution_count": null,
            "metadata": {},
            "outputs": [],
            "source": [
                "# Use the values of column x as the predictor variable\n",
                "x = df[['x']].values\n",
                "\n",
                "# Use the values of column y as the response variable\n",
                "y = df['y'].values\n"
            ]
        },
        {
            "cell_type": "code",
            "execution_count": null,
            "metadata": {},
            "outputs": [],
            "source": [
                "### edTest(test_split) ###\n",
                "\n",
                "# Split the data into train and test splits\n",
                "# Set aside 25% for testing with a random state of 1\n",
                "x_train, x_test, y_train, y_test = train_test_split(x, y, test_size=0.25, random_state=1)\n"
            ]
        },
        {
            "cell_type": "code",
            "execution_count": null,
            "metadata": {},
            "outputs": [],
            "source": [
                "# Create an empty list to store test MSEs\n",
                "test_error = []\n"
            ]
        },
        {
            "attachments": {},
            "cell_type": "markdown",
            "metadata": {},
            "source": [
                "### Linear Regression"
            ]
        },
        {
            "cell_type": "code",
            "execution_count": null,
            "metadata": {},
            "outputs": [],
            "source": [
                "### edTest(test_linear_mse) ###\n",
                "\n",
                "# Initialize a simple Linear Regression model\n",
                "model = LinearRegression()\n",
                "\n",
                "# Fit the model on the train data\n",
                "model.fit(x_train, y_train)\n",
                "\n",
                "# Predict using the trained model on the test data\n",
                "y_pred = model.predict(x_test)\n",
                "\n",
                "# Compute the MSE of the test predictions\n",
                "mse = mean_squared_error(y_test, y_pred)\n",
                "\n",
                "# Append the error to the list initialized above\n",
                "test_error.append(mse)\n"
            ]
        },
        {
            "attachments": {},
            "cell_type": "markdown",
            "metadata": {},
            "source": [
                "### Polynomial Regression"
            ]
        },
        {
            "cell_type": "code",
            "execution_count": null,
            "metadata": {},
            "outputs": [],
            "source": [
                "### edTest(test_poly_mse) ###\n",
                "\n",
                "# Initialize a list of degree values to create polynomial features\n",
                "degree_list = [2,5]\n",
                "\n",
                "# Run a for loop through the degrees of the polynomial\n",
                "for d in degree_list:\n",
                "    \n",
                "    # Compute the polynomial features for the train data, for the current degree\n",
                "    X_train = PolynomialFeatures(degree=d).fit_transform(x_train)\n",
                "    \n",
                "    # Compute the polynomial features for the test data, for the current degree\n",
                "    X_test = PolynomialFeatures(degree=d).fit_transform(x_test)\n",
                "    \n",
                "    # Initialize a linear regression model\n",
                "    lreg = LinearRegression(fit_intercept=False)\n",
                "    \n",
                "    # Fit the linear model on the transformed train data\n",
                "    lreg.fit(X_train, y_train)\n",
                "    \n",
                "    # Predict using the trained model on the test data\n",
                "    y_pred = lreg.predict(X_test)\n",
                "    \n",
                "    # Compute the MSE of the test predictions\n",
                "    mse = mean_squared_error(y_test, y_pred)\n",
                "\n",
                "    # Append the error to the list initialized above\n",
                "    test_error.append(mse)"
            ]
        },
        {
            "attachments": {},
            "cell_type": "markdown",
            "metadata": {},
            "source": [
                "### kNN Regression"
            ]
        },
        {
            "cell_type": "code",
            "execution_count": null,
            "metadata": {},
            "outputs": [],
            "source": [
                "### edTest(test_knn_mse) ###\n",
                "\n",
                "# Initialize a list of k values to specify the number of neighbors\n",
                "knn_list = [1,20]\n",
                "\n",
                "# Loop through the k values from the list defined above\n",
                "for i in knn_list:\n",
                "    \n",
                "    # Initialize a kNN model with the current k value\n",
                "    model = KNeighborsRegressor(n_neighbors=i)\n",
                "    \n",
                "    # Fit the model on the train data\n",
                "    model.fit(x_train, y_train)\n",
                "    \n",
                "    # Predict using the trained model on the test data\n",
                "    y_pred = model.predict(x_test)\n",
                "    \n",
                "    # Compute the MSE of the test predictions\n",
                "    mse = mean_squared_error(y_test, y_pred)\n",
                "\n",
                "    # Append the error to the list initialized above\n",
                "    test_error.append(mse)\n",
                "    "
            ]
        },
        {
            "cell_type": "code",
            "execution_count": null,
            "metadata": {},
            "outputs": [
                {
                    "name": "stdout",
                    "output_type": "stream",
                    "text": [
                        "+--------------------------------+-------+\n",
                        "|             Model              |  MSE  |\n",
                        "+--------------------------------+-------+\n",
                        "|       Linear Regression        | 13.58 |\n",
                        "| Polynomial Model with Degree 2 |  5.01 |\n",
                        "| Polynomial Model with Degree 5 | 92.27 |\n",
                        "|       KNN Model with k=1       | 70.56 |\n",
                        "|      KNN Model with k=20       | 47.26 |\n",
                        "+--------------------------------+-------+\n"
                    ]
                }
            ],
            "source": [
                "# Helper code to visualize the MSE of the 5 models \n",
                "pt = PrettyTable()\n",
                "pt.field_names = [\"Model\",\"MSE\"]\n",
                "pt.add_row([\"Linear Regression\", round(test_error[0],2)])\n",
                "pt.add_row([\"Polynomial Model with Degree 2\", round(test_error[1],2)])\n",
                "pt.add_row([\"Polynomial Model with Degree 5\", round(test_error[2],2)])\n",
                "pt.add_row([\"KNN Model with k=1\", round(test_error[3],2)])\n",
                "pt.add_row([\"KNN Model with k=20\", round(test_error[4],2)])\n",
                "print(pt)\n"
            ]
        }
    ],
    "metadata": {
        "kernelspec": {
            "display_name": ".venv",
            "language": "python",
            "name": "python3"
        },
        "language_info": {
            "codemirror_mode": {
                "name": "ipython",
                "version": 3
            },
            "file_extension": ".py",
            "mimetype": "text/x-python",
            "name": "python",
            "nbconvert_exporter": "python",
            "pygments_lexer": "ipython3",
            "version": "3.13.1"
        }
    },
    "nbformat": 4,
    "nbformat_minor": 4
}
